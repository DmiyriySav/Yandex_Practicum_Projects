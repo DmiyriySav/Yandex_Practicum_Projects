{
 "cells": [
  {
   "cell_type": "markdown",
   "id": "eb4f41bd",
   "metadata": {},
   "source": [
    "# 2. Исследование надёжности заёмщиков — анализ банковских данных"
   ]
  },
  {
   "cell_type": "markdown",
   "id": "826baacc",
   "metadata": {},
   "source": [
    "**Описание проекта:**\n",
    "\n",
    "Заказчик — кредитный отдел банка. Нужно разобраться, влияет ли семейное положение и количество детей клиента на факт погашения кредита в срок. Входные данные от банка — статистика о платёжеспособности клиентов.\n",
    "\n",
    "Результаты исследования будут учтены при построении модели кредитного скоринга — специальной системы, которая оценивает способность потенциального заёмщика вернуть кредит банку.\n",
    "\n",
    "**Описание данных:**\n",
    "\n",
    "- children — количество детей в семье\n",
    "- days_employed — общий трудовой стаж в днях\n",
    "- dob_years — возраст клиента в годах\n",
    "- education — уровень образования клиента\n",
    "- education_id — идентификатор уровня образования\n",
    "- family_status — семейное положение\n",
    "- family_status_id — идентификатор семейного положения\n",
    "- gender — пол клиента\n",
    "- income_type — тип занятости\n",
    "- debt — имел ли задолженность по возврату кредитов\n",
    "- total_income — ежемесячный доход\n",
    "- purpose — цель получения кредита"
   ]
  },
  {
   "cell_type": "markdown",
   "id": "d85fc73f",
   "metadata": {},
   "source": [
    "### Шаг 1. Обзор данных"
   ]
  },
  {
   "cell_type": "code",
   "execution_count": 79,
   "id": "2f69a141",
   "metadata": {},
   "outputs": [
    {
     "data": {
      "text/html": [
       "<div>\n",
       "<style scoped>\n",
       "    .dataframe tbody tr th:only-of-type {\n",
       "        vertical-align: middle;\n",
       "    }\n",
       "\n",
       "    .dataframe tbody tr th {\n",
       "        vertical-align: top;\n",
       "    }\n",
       "\n",
       "    .dataframe thead th {\n",
       "        text-align: right;\n",
       "    }\n",
       "</style>\n",
       "<table border=\"1\" class=\"dataframe\">\n",
       "  <thead>\n",
       "    <tr style=\"text-align: right;\">\n",
       "      <th></th>\n",
       "      <th>children</th>\n",
       "      <th>days_employed</th>\n",
       "      <th>dob_years</th>\n",
       "      <th>education</th>\n",
       "      <th>education_id</th>\n",
       "      <th>family_status</th>\n",
       "      <th>family_status_id</th>\n",
       "      <th>gender</th>\n",
       "      <th>income_type</th>\n",
       "      <th>debt</th>\n",
       "      <th>total_income</th>\n",
       "      <th>purpose</th>\n",
       "    </tr>\n",
       "  </thead>\n",
       "  <tbody>\n",
       "    <tr>\n",
       "      <td>0</td>\n",
       "      <td>1</td>\n",
       "      <td>-8437.673028</td>\n",
       "      <td>42</td>\n",
       "      <td>высшее</td>\n",
       "      <td>0</td>\n",
       "      <td>женат / замужем</td>\n",
       "      <td>0</td>\n",
       "      <td>F</td>\n",
       "      <td>сотрудник</td>\n",
       "      <td>0</td>\n",
       "      <td>253875.639453</td>\n",
       "      <td>покупка жилья</td>\n",
       "    </tr>\n",
       "    <tr>\n",
       "      <td>1</td>\n",
       "      <td>1</td>\n",
       "      <td>-4024.803754</td>\n",
       "      <td>36</td>\n",
       "      <td>среднее</td>\n",
       "      <td>1</td>\n",
       "      <td>женат / замужем</td>\n",
       "      <td>0</td>\n",
       "      <td>F</td>\n",
       "      <td>сотрудник</td>\n",
       "      <td>0</td>\n",
       "      <td>112080.014102</td>\n",
       "      <td>приобретение автомобиля</td>\n",
       "    </tr>\n",
       "    <tr>\n",
       "      <td>2</td>\n",
       "      <td>0</td>\n",
       "      <td>-5623.422610</td>\n",
       "      <td>33</td>\n",
       "      <td>Среднее</td>\n",
       "      <td>1</td>\n",
       "      <td>женат / замужем</td>\n",
       "      <td>0</td>\n",
       "      <td>M</td>\n",
       "      <td>сотрудник</td>\n",
       "      <td>0</td>\n",
       "      <td>145885.952297</td>\n",
       "      <td>покупка жилья</td>\n",
       "    </tr>\n",
       "    <tr>\n",
       "      <td>3</td>\n",
       "      <td>3</td>\n",
       "      <td>-4124.747207</td>\n",
       "      <td>32</td>\n",
       "      <td>среднее</td>\n",
       "      <td>1</td>\n",
       "      <td>женат / замужем</td>\n",
       "      <td>0</td>\n",
       "      <td>M</td>\n",
       "      <td>сотрудник</td>\n",
       "      <td>0</td>\n",
       "      <td>267628.550329</td>\n",
       "      <td>дополнительное образование</td>\n",
       "    </tr>\n",
       "    <tr>\n",
       "      <td>4</td>\n",
       "      <td>0</td>\n",
       "      <td>340266.072047</td>\n",
       "      <td>53</td>\n",
       "      <td>среднее</td>\n",
       "      <td>1</td>\n",
       "      <td>гражданский брак</td>\n",
       "      <td>1</td>\n",
       "      <td>F</td>\n",
       "      <td>пенсионер</td>\n",
       "      <td>0</td>\n",
       "      <td>158616.077870</td>\n",
       "      <td>сыграть свадьбу</td>\n",
       "    </tr>\n",
       "    <tr>\n",
       "      <td>5</td>\n",
       "      <td>0</td>\n",
       "      <td>-926.185831</td>\n",
       "      <td>27</td>\n",
       "      <td>высшее</td>\n",
       "      <td>0</td>\n",
       "      <td>гражданский брак</td>\n",
       "      <td>1</td>\n",
       "      <td>M</td>\n",
       "      <td>компаньон</td>\n",
       "      <td>0</td>\n",
       "      <td>255763.565419</td>\n",
       "      <td>покупка жилья</td>\n",
       "    </tr>\n",
       "    <tr>\n",
       "      <td>6</td>\n",
       "      <td>0</td>\n",
       "      <td>-2879.202052</td>\n",
       "      <td>43</td>\n",
       "      <td>высшее</td>\n",
       "      <td>0</td>\n",
       "      <td>женат / замужем</td>\n",
       "      <td>0</td>\n",
       "      <td>F</td>\n",
       "      <td>компаньон</td>\n",
       "      <td>0</td>\n",
       "      <td>240525.971920</td>\n",
       "      <td>операции с жильем</td>\n",
       "    </tr>\n",
       "    <tr>\n",
       "      <td>7</td>\n",
       "      <td>0</td>\n",
       "      <td>-152.779569</td>\n",
       "      <td>50</td>\n",
       "      <td>СРЕДНЕЕ</td>\n",
       "      <td>1</td>\n",
       "      <td>женат / замужем</td>\n",
       "      <td>0</td>\n",
       "      <td>M</td>\n",
       "      <td>сотрудник</td>\n",
       "      <td>0</td>\n",
       "      <td>135823.934197</td>\n",
       "      <td>образование</td>\n",
       "    </tr>\n",
       "    <tr>\n",
       "      <td>8</td>\n",
       "      <td>2</td>\n",
       "      <td>-6929.865299</td>\n",
       "      <td>35</td>\n",
       "      <td>ВЫСШЕЕ</td>\n",
       "      <td>0</td>\n",
       "      <td>гражданский брак</td>\n",
       "      <td>1</td>\n",
       "      <td>F</td>\n",
       "      <td>сотрудник</td>\n",
       "      <td>0</td>\n",
       "      <td>95856.832424</td>\n",
       "      <td>на проведение свадьбы</td>\n",
       "    </tr>\n",
       "    <tr>\n",
       "      <td>9</td>\n",
       "      <td>0</td>\n",
       "      <td>-2188.756445</td>\n",
       "      <td>41</td>\n",
       "      <td>среднее</td>\n",
       "      <td>1</td>\n",
       "      <td>женат / замужем</td>\n",
       "      <td>0</td>\n",
       "      <td>M</td>\n",
       "      <td>сотрудник</td>\n",
       "      <td>0</td>\n",
       "      <td>144425.938277</td>\n",
       "      <td>покупка жилья для семьи</td>\n",
       "    </tr>\n",
       "  </tbody>\n",
       "</table>\n",
       "</div>"
      ],
      "text/plain": [
       "   children  days_employed  dob_years education  education_id  \\\n",
       "0         1   -8437.673028         42    высшее             0   \n",
       "1         1   -4024.803754         36   среднее             1   \n",
       "2         0   -5623.422610         33   Среднее             1   \n",
       "3         3   -4124.747207         32   среднее             1   \n",
       "4         0  340266.072047         53   среднее             1   \n",
       "5         0    -926.185831         27    высшее             0   \n",
       "6         0   -2879.202052         43    высшее             0   \n",
       "7         0    -152.779569         50   СРЕДНЕЕ             1   \n",
       "8         2   -6929.865299         35    ВЫСШЕЕ             0   \n",
       "9         0   -2188.756445         41   среднее             1   \n",
       "\n",
       "      family_status  family_status_id gender income_type  debt   total_income  \\\n",
       "0   женат / замужем                 0      F   сотрудник     0  253875.639453   \n",
       "1   женат / замужем                 0      F   сотрудник     0  112080.014102   \n",
       "2   женат / замужем                 0      M   сотрудник     0  145885.952297   \n",
       "3   женат / замужем                 0      M   сотрудник     0  267628.550329   \n",
       "4  гражданский брак                 1      F   пенсионер     0  158616.077870   \n",
       "5  гражданский брак                 1      M   компаньон     0  255763.565419   \n",
       "6   женат / замужем                 0      F   компаньон     0  240525.971920   \n",
       "7   женат / замужем                 0      M   сотрудник     0  135823.934197   \n",
       "8  гражданский брак                 1      F   сотрудник     0   95856.832424   \n",
       "9   женат / замужем                 0      M   сотрудник     0  144425.938277   \n",
       "\n",
       "                      purpose  \n",
       "0               покупка жилья  \n",
       "1     приобретение автомобиля  \n",
       "2               покупка жилья  \n",
       "3  дополнительное образование  \n",
       "4             сыграть свадьбу  \n",
       "5               покупка жилья  \n",
       "6           операции с жильем  \n",
       "7                 образование  \n",
       "8       на проведение свадьбы  \n",
       "9     покупка жилья для семьи  "
      ]
     },
     "execution_count": 79,
     "metadata": {},
     "output_type": "execute_result"
    }
   ],
   "source": [
    "import pandas as pd\n",
    "# Прочитаем файл с данными\n",
    "df = pd.read_csv('/datasets/data.csv')\n",
    "\n",
    "# Посмотрим структуру данных файла\n",
    "df.head(10)"
   ]
  },
  {
   "cell_type": "code",
   "execution_count": 80,
   "id": "c01d846c",
   "metadata": {},
   "outputs": [
    {
     "name": "stdout",
     "output_type": "stream",
     "text": [
      "<class 'pandas.core.frame.DataFrame'>\n",
      "RangeIndex: 21525 entries, 0 to 21524\n",
      "Data columns (total 12 columns):\n",
      "children            21525 non-null int64\n",
      "days_employed       19351 non-null float64\n",
      "dob_years           21525 non-null int64\n",
      "education           21525 non-null object\n",
      "education_id        21525 non-null int64\n",
      "family_status       21525 non-null object\n",
      "family_status_id    21525 non-null int64\n",
      "gender              21525 non-null object\n",
      "income_type         21525 non-null object\n",
      "debt                21525 non-null int64\n",
      "total_income        19351 non-null float64\n",
      "purpose             21525 non-null object\n",
      "dtypes: float64(2), int64(5), object(5)\n",
      "memory usage: 2.0+ MB\n"
     ]
    }
   ],
   "source": [
    "# Посмотрим структуру файла и объем данных\n",
    "df.info()"
   ]
  },
  {
   "cell_type": "markdown",
   "id": "52abfb22",
   "metadata": {},
   "source": [
    "Видим, что есть пропущенные значения в двух столбцах: *общий трудовой стаж* и *ежемесячный доход*."
   ]
  },
  {
   "cell_type": "code",
   "execution_count": 81,
   "id": "368fed41",
   "metadata": {},
   "outputs": [
    {
     "data": {
      "text/html": [
       "<div>\n",
       "<style scoped>\n",
       "    .dataframe tbody tr th:only-of-type {\n",
       "        vertical-align: middle;\n",
       "    }\n",
       "\n",
       "    .dataframe tbody tr th {\n",
       "        vertical-align: top;\n",
       "    }\n",
       "\n",
       "    .dataframe thead th {\n",
       "        text-align: right;\n",
       "    }\n",
       "</style>\n",
       "<table border=\"1\" class=\"dataframe\">\n",
       "  <thead>\n",
       "    <tr style=\"text-align: right;\">\n",
       "      <th></th>\n",
       "      <th>children</th>\n",
       "      <th>days_employed</th>\n",
       "      <th>dob_years</th>\n",
       "      <th>education_id</th>\n",
       "      <th>family_status_id</th>\n",
       "      <th>debt</th>\n",
       "      <th>total_income</th>\n",
       "    </tr>\n",
       "  </thead>\n",
       "  <tbody>\n",
       "    <tr>\n",
       "      <td>count</td>\n",
       "      <td>21525.000000</td>\n",
       "      <td>19351.000000</td>\n",
       "      <td>21525.000000</td>\n",
       "      <td>21525.000000</td>\n",
       "      <td>21525.000000</td>\n",
       "      <td>21525.000000</td>\n",
       "      <td>1.935100e+04</td>\n",
       "    </tr>\n",
       "    <tr>\n",
       "      <td>mean</td>\n",
       "      <td>0.538908</td>\n",
       "      <td>63046.497661</td>\n",
       "      <td>43.293380</td>\n",
       "      <td>0.817236</td>\n",
       "      <td>0.972544</td>\n",
       "      <td>0.080883</td>\n",
       "      <td>1.674223e+05</td>\n",
       "    </tr>\n",
       "    <tr>\n",
       "      <td>std</td>\n",
       "      <td>1.381587</td>\n",
       "      <td>140827.311974</td>\n",
       "      <td>12.574584</td>\n",
       "      <td>0.548138</td>\n",
       "      <td>1.420324</td>\n",
       "      <td>0.272661</td>\n",
       "      <td>1.029716e+05</td>\n",
       "    </tr>\n",
       "    <tr>\n",
       "      <td>min</td>\n",
       "      <td>-1.000000</td>\n",
       "      <td>-18388.949901</td>\n",
       "      <td>0.000000</td>\n",
       "      <td>0.000000</td>\n",
       "      <td>0.000000</td>\n",
       "      <td>0.000000</td>\n",
       "      <td>2.066726e+04</td>\n",
       "    </tr>\n",
       "    <tr>\n",
       "      <td>25%</td>\n",
       "      <td>0.000000</td>\n",
       "      <td>-2747.423625</td>\n",
       "      <td>33.000000</td>\n",
       "      <td>1.000000</td>\n",
       "      <td>0.000000</td>\n",
       "      <td>0.000000</td>\n",
       "      <td>1.030532e+05</td>\n",
       "    </tr>\n",
       "    <tr>\n",
       "      <td>50%</td>\n",
       "      <td>0.000000</td>\n",
       "      <td>-1203.369529</td>\n",
       "      <td>42.000000</td>\n",
       "      <td>1.000000</td>\n",
       "      <td>0.000000</td>\n",
       "      <td>0.000000</td>\n",
       "      <td>1.450179e+05</td>\n",
       "    </tr>\n",
       "    <tr>\n",
       "      <td>75%</td>\n",
       "      <td>1.000000</td>\n",
       "      <td>-291.095954</td>\n",
       "      <td>53.000000</td>\n",
       "      <td>1.000000</td>\n",
       "      <td>1.000000</td>\n",
       "      <td>0.000000</td>\n",
       "      <td>2.034351e+05</td>\n",
       "    </tr>\n",
       "    <tr>\n",
       "      <td>max</td>\n",
       "      <td>20.000000</td>\n",
       "      <td>401755.400475</td>\n",
       "      <td>75.000000</td>\n",
       "      <td>4.000000</td>\n",
       "      <td>4.000000</td>\n",
       "      <td>1.000000</td>\n",
       "      <td>2.265604e+06</td>\n",
       "    </tr>\n",
       "  </tbody>\n",
       "</table>\n",
       "</div>"
      ],
      "text/plain": [
       "           children  days_employed     dob_years  education_id  \\\n",
       "count  21525.000000   19351.000000  21525.000000  21525.000000   \n",
       "mean       0.538908   63046.497661     43.293380      0.817236   \n",
       "std        1.381587  140827.311974     12.574584      0.548138   \n",
       "min       -1.000000  -18388.949901      0.000000      0.000000   \n",
       "25%        0.000000   -2747.423625     33.000000      1.000000   \n",
       "50%        0.000000   -1203.369529     42.000000      1.000000   \n",
       "75%        1.000000    -291.095954     53.000000      1.000000   \n",
       "max       20.000000  401755.400475     75.000000      4.000000   \n",
       "\n",
       "       family_status_id          debt  total_income  \n",
       "count      21525.000000  21525.000000  1.935100e+04  \n",
       "mean           0.972544      0.080883  1.674223e+05  \n",
       "std            1.420324      0.272661  1.029716e+05  \n",
       "min            0.000000      0.000000  2.066726e+04  \n",
       "25%            0.000000      0.000000  1.030532e+05  \n",
       "50%            0.000000      0.000000  1.450179e+05  \n",
       "75%            1.000000      0.000000  2.034351e+05  \n",
       "max            4.000000      1.000000  2.265604e+06  "
      ]
     },
     "execution_count": 81,
     "metadata": {},
     "output_type": "execute_result"
    }
   ],
   "source": [
    "# Рассмотрим подробнее состав данных\n",
    "df.describe()"
   ]
  },
  {
   "cell_type": "markdown",
   "id": "9889c115",
   "metadata": {},
   "source": [
    "Видим следующие аномалии в данных:\n",
    "\n",
    "1. отрицательное количество детей - ошибка\n",
    "2. количество детей 20 - необходимо рассмотреть, возможно тоже ошибка\n",
    "3. отрицательные значения в количестве дней стажа - ошибка\n",
    "4. нереальное максимальное значение дней стажа (1100 лет) - ошибка\n",
    "5. среднее значение стажа завышенное (173 года) - рассмотреть причины\n",
    "6. минимальный возраст 0 лет - пропущены данные"
   ]
  },
  {
   "cell_type": "code",
   "execution_count": 82,
   "id": "f7452f64",
   "metadata": {},
   "outputs": [
    {
     "data": {
      "text/plain": [
       "среднее                13750\n",
       "высшее                  4718\n",
       "СРЕДНЕЕ                  772\n",
       "Среднее                  711\n",
       "неоконченное высшее      668\n",
       "ВЫСШЕЕ                   274\n",
       "Высшее                   268\n",
       "начальное                250\n",
       "Неоконченное высшее       47\n",
       "НЕОКОНЧЕННОЕ ВЫСШЕЕ       29\n",
       "НАЧАЛЬНОЕ                 17\n",
       "Начальное                 15\n",
       "ученая степень             4\n",
       "УЧЕНАЯ СТЕПЕНЬ             1\n",
       "Ученая степень             1\n",
       "Name: education, dtype: int64"
      ]
     },
     "execution_count": 82,
     "metadata": {},
     "output_type": "execute_result"
    }
   ],
   "source": [
    "# Проверим столбец Образование на качество заполнения\n",
    "df['education'].value_counts()"
   ]
  },
  {
   "cell_type": "markdown",
   "id": "a2d5bcfd",
   "metadata": {},
   "source": [
    "Видим, что данные заполнялись *неупорядоченно*, необходимо в дальнейшем привести к единому виду"
   ]
  },
  {
   "cell_type": "code",
   "execution_count": 83,
   "id": "1cb840dd",
   "metadata": {},
   "outputs": [
    {
     "data": {
      "text/plain": [
       "женат / замужем          12380\n",
       "гражданский брак          4177\n",
       "Не женат / не замужем     2813\n",
       "в разводе                 1195\n",
       "вдовец / вдова             960\n",
       "Name: family_status, dtype: int64"
      ]
     },
     "execution_count": 83,
     "metadata": {},
     "output_type": "execute_result"
    }
   ],
   "source": [
    "# Проверим столбец Семейный статус на качество заполнения\n",
    "df['family_status'].value_counts()"
   ]
  },
  {
   "cell_type": "markdown",
   "id": "8bf15888",
   "metadata": {},
   "source": [
    "С данными в столбце *Семейное положение* все в порядке"
   ]
  },
  {
   "cell_type": "code",
   "execution_count": 84,
   "id": "b6251509",
   "metadata": {},
   "outputs": [
    {
     "data": {
      "text/plain": [
       "сотрудник          11119\n",
       "компаньон           5085\n",
       "пенсионер           3856\n",
       "госслужащий         1459\n",
       "безработный            2\n",
       "предприниматель        2\n",
       "студент                1\n",
       "в декрете              1\n",
       "Name: income_type, dtype: int64"
      ]
     },
     "execution_count": 84,
     "metadata": {},
     "output_type": "execute_result"
    }
   ],
   "source": [
    "# Проверим столбец Тип занятости на качество заполнения\n",
    "df['income_type'].value_counts()"
   ]
  },
  {
   "cell_type": "markdown",
   "id": "f313a696",
   "metadata": {},
   "source": [
    "В столбце *Тип занятости* есть неверные значения (студент, в декрете), но они единичны и не помешают анализу"
   ]
  },
  {
   "cell_type": "markdown",
   "id": "6210c1f7",
   "metadata": {},
   "source": [
    "### Шаг 2.1 Заполнение пропусков"
   ]
  },
  {
   "cell_type": "code",
   "execution_count": 85,
   "id": "8540b87e",
   "metadata": {},
   "outputs": [
    {
     "name": "stdout",
     "output_type": "stream",
     "text": [
      "<class 'pandas.core.frame.DataFrame'>\n",
      "Int64Index: 2174 entries, 12 to 21510\n",
      "Data columns (total 12 columns):\n",
      "children            2174 non-null int64\n",
      "days_employed       0 non-null float64\n",
      "dob_years           2174 non-null int64\n",
      "education           2174 non-null object\n",
      "education_id        2174 non-null int64\n",
      "family_status       2174 non-null object\n",
      "family_status_id    2174 non-null int64\n",
      "gender              2174 non-null object\n",
      "income_type         2174 non-null object\n",
      "debt                2174 non-null int64\n",
      "total_income        0 non-null float64\n",
      "purpose             2174 non-null object\n",
      "dtypes: float64(2), int64(5), object(5)\n",
      "memory usage: 220.8+ KB\n"
     ]
    }
   ],
   "source": [
    "# Проверим, совпадают ли пропущенные значения по строкам\n",
    "df[(df['total_income'].isnull() == True) & (df['days_employed'].isnull() == True)].info()"
   ]
  },
  {
   "cell_type": "markdown",
   "id": "6da3ce2b",
   "metadata": {},
   "source": [
    "Предположение подтвердилось - значения пропущены в строках попарно. Возможно, это алгоритм работы программы кредитного эксперта: нет стажа работы, соответственно нет возможности внести доход, но в таком случае агент допустил ошибку, указывая тип занятости не безработный.  \n",
    "   Количественные переменные (особенно такие, как заработная плата) лучше заполнять медианным значением, так как большие максимальные значения могут завышать среднее значение и искажать реальную картину."
   ]
  },
  {
   "cell_type": "code",
   "execution_count": 86,
   "id": "f3266fc0",
   "metadata": {},
   "outputs": [
    {
     "name": "stdout",
     "output_type": "stream",
     "text": [
      "Доля пропущенных данных: 10.1%\n"
     ]
    }
   ],
   "source": [
    "# Подсчитаем долю пропущенных данных\n",
    "lost_value = (df['children'].count() - df['days_employed'].count())/df['children'].count()\n",
    "print(f'Доля пропущенных данных: {lost_value:.1%}')"
   ]
  },
  {
   "cell_type": "code",
   "execution_count": 87,
   "id": "4e7223f4",
   "metadata": {},
   "outputs": [
    {
     "data": {
      "text/plain": [
       "сотрудник          1105\n",
       "компаньон           508\n",
       "пенсионер           413\n",
       "госслужащий         147\n",
       "предприниматель       1\n",
       "Name: income_type, dtype: int64"
      ]
     },
     "execution_count": 87,
     "metadata": {},
     "output_type": "execute_result"
    }
   ],
   "source": [
    "# Проверим распределение пропущенных значений по типам занятости\n",
    "df[(df['total_income'].isnull() == True) & (df['days_employed'].isnull() == True)]['income_type'].value_counts()"
   ]
  },
  {
   "cell_type": "markdown",
   "id": "eb0752d0",
   "metadata": {},
   "source": [
    "\n",
    "Пропущенные значения неравномерно распределены по группам. При заполнении пропусков необходимо проверить различие медианного дохода по группам и, возможно, заполнять пропуски в зависимости от группы."
   ]
  },
  {
   "cell_type": "code",
   "execution_count": 88,
   "id": "de777300",
   "metadata": {},
   "outputs": [
    {
     "data": {
      "text/plain": [
       "income_type\n",
       "безработный        131339.751676\n",
       "в декрете           53829.130729\n",
       "госслужащий        170898.309923\n",
       "компаньон          202417.461462\n",
       "пенсионер          137127.465690\n",
       "предприниматель    499163.144947\n",
       "сотрудник          161380.260488\n",
       "студент             98201.625314\n",
       "Name: total_income, dtype: float64"
      ]
     },
     "execution_count": 88,
     "metadata": {},
     "output_type": "execute_result"
    }
   ],
   "source": [
    "# Проверим распределение медианного дохода по типам занятости\n",
    "df.groupby('income_type')['total_income'].mean()"
   ]
  },
  {
   "cell_type": "markdown",
   "id": "4dcc5677",
   "metadata": {},
   "source": [
    "Видим, что медианный доход сильно отличается в зависимости от типа занятости, поэтому пропуски необходимо также заполнять по типам занятости."
   ]
  },
  {
   "cell_type": "code",
   "execution_count": 89,
   "id": "44a6d68a",
   "metadata": {},
   "outputs": [],
   "source": [
    "# Заполним пропущенные значения дохода медианными значениями в зависимости от типа занятости\n",
    "df['total_income'] = df.groupby('income_type')['total_income'].transform(lambda x: x.fillna(x.mean()))"
   ]
  },
  {
   "cell_type": "code",
   "execution_count": 90,
   "id": "3d2c635f",
   "metadata": {},
   "outputs": [
    {
     "data": {
      "text/html": [
       "<div>\n",
       "<style scoped>\n",
       "    .dataframe tbody tr th:only-of-type {\n",
       "        vertical-align: middle;\n",
       "    }\n",
       "\n",
       "    .dataframe tbody tr th {\n",
       "        vertical-align: top;\n",
       "    }\n",
       "\n",
       "    .dataframe thead tr th {\n",
       "        text-align: left;\n",
       "    }\n",
       "\n",
       "    .dataframe thead tr:last-of-type th {\n",
       "        text-align: right;\n",
       "    }\n",
       "</style>\n",
       "<table border=\"1\" class=\"dataframe\">\n",
       "  <thead>\n",
       "    <tr>\n",
       "      <th></th>\n",
       "      <th colspan=\"3\" halign=\"left\">days_employed</th>\n",
       "    </tr>\n",
       "    <tr>\n",
       "      <th></th>\n",
       "      <th>Количество значений</th>\n",
       "      <th>Среднее значение</th>\n",
       "      <th>Количество положительных значений</th>\n",
       "    </tr>\n",
       "    <tr>\n",
       "      <th>income_type</th>\n",
       "      <th></th>\n",
       "      <th></th>\n",
       "      <th></th>\n",
       "    </tr>\n",
       "  </thead>\n",
       "  <tbody>\n",
       "    <tr>\n",
       "      <td>безработный</td>\n",
       "      <td>2</td>\n",
       "      <td>366413.652744</td>\n",
       "      <td>2.0</td>\n",
       "    </tr>\n",
       "    <tr>\n",
       "      <td>в декрете</td>\n",
       "      <td>1</td>\n",
       "      <td>-3296.759962</td>\n",
       "      <td>0.0</td>\n",
       "    </tr>\n",
       "    <tr>\n",
       "      <td>госслужащий</td>\n",
       "      <td>1312</td>\n",
       "      <td>-3399.896902</td>\n",
       "      <td>0.0</td>\n",
       "    </tr>\n",
       "    <tr>\n",
       "      <td>компаньон</td>\n",
       "      <td>4577</td>\n",
       "      <td>-2111.524398</td>\n",
       "      <td>0.0</td>\n",
       "    </tr>\n",
       "    <tr>\n",
       "      <td>пенсионер</td>\n",
       "      <td>3443</td>\n",
       "      <td>365003.491245</td>\n",
       "      <td>3443.0</td>\n",
       "    </tr>\n",
       "    <tr>\n",
       "      <td>предприниматель</td>\n",
       "      <td>1</td>\n",
       "      <td>-520.848083</td>\n",
       "      <td>0.0</td>\n",
       "    </tr>\n",
       "    <tr>\n",
       "      <td>сотрудник</td>\n",
       "      <td>10014</td>\n",
       "      <td>-2326.499216</td>\n",
       "      <td>0.0</td>\n",
       "    </tr>\n",
       "    <tr>\n",
       "      <td>студент</td>\n",
       "      <td>1</td>\n",
       "      <td>-578.751554</td>\n",
       "      <td>0.0</td>\n",
       "    </tr>\n",
       "  </tbody>\n",
       "</table>\n",
       "</div>"
      ],
      "text/plain": [
       "                      days_employed                   \\\n",
       "                Количество значений Среднее значение   \n",
       "income_type                                            \n",
       "безработный                       2    366413.652744   \n",
       "в декрете                         1     -3296.759962   \n",
       "госслужащий                    1312     -3399.896902   \n",
       "компаньон                      4577     -2111.524398   \n",
       "пенсионер                      3443    365003.491245   \n",
       "предприниматель                   1      -520.848083   \n",
       "сотрудник                     10014     -2326.499216   \n",
       "студент                           1      -578.751554   \n",
       "\n",
       "                                                   \n",
       "                Количество положительных значений  \n",
       "income_type                                        \n",
       "безработный                                   2.0  \n",
       "в декрете                                     0.0  \n",
       "госслужащий                                   0.0  \n",
       "компаньон                                     0.0  \n",
       "пенсионер                                  3443.0  \n",
       "предприниматель                               0.0  \n",
       "сотрудник                                     0.0  \n",
       "студент                                       0.0  "
      ]
     },
     "execution_count": 90,
     "metadata": {},
     "output_type": "execute_result"
    }
   ],
   "source": [
    "# Построим сводную таблицу, чтобы причины некорректных значений в столбце Стаж\n",
    "df_grouped = df.groupby('income_type').agg({'days_employed':['count', 'mean', lambda x: sum(x>0)]})\n",
    "\n",
    "dict_to_rename = dict(zip(df_grouped.columns.levels[1], ['Количество значений', 'Среднее значение', 'Количество положительных значений']))\n",
    "\n",
    "df_grouped = df_grouped.rename(columns=dict_to_rename, level=1)\n",
    "df_grouped"
   ]
  },
  {
   "cell_type": "markdown",
   "id": "5a82e6ec",
   "metadata": {},
   "source": [
    "Из таблицы видно, что положительные значения есть только у безработных и пенсионеров, по остальным значения отрицательные. Таким образом имеем некорректное отображение данных. Для исправления возьмем значения в столбце по модулю."
   ]
  },
  {
   "cell_type": "code",
   "execution_count": 91,
   "id": "c08c0558",
   "metadata": {},
   "outputs": [],
   "source": [
    "# Создадим вспомогательный столбец для подсчета соотношения продолжительности стажа к возрасту в зависимости от типа занятости\n",
    "df['days_employed'] = df['days_employed'].abs()\n",
    "df['ratio_days_employed'] = df[df['days_employed'].notnull()]['days_employed']/((df['dob_years'])*365.25)"
   ]
  },
  {
   "cell_type": "code",
   "execution_count": 92,
   "id": "96cfcfa4",
   "metadata": {},
   "outputs": [],
   "source": [
    "# Заполним пропущенные значения медианным значением из вспомогательного столбца в зависимости от типа занятости\n",
    "df['days_employed'] = df.groupby('income_type')['days_employed'].transform(lambda x: x.fillna(x.mean()*df['dob_years']*365.25))"
   ]
  },
  {
   "cell_type": "code",
   "execution_count": 93,
   "id": "7d188212",
   "metadata": {},
   "outputs": [
    {
     "name": "stdout",
     "output_type": "stream",
     "text": [
      "<class 'pandas.core.frame.DataFrame'>\n",
      "RangeIndex: 21525 entries, 0 to 21524\n",
      "Data columns (total 12 columns):\n",
      "children            21525 non-null int64\n",
      "days_employed       21525 non-null float64\n",
      "dob_years           21525 non-null int64\n",
      "education           21525 non-null object\n",
      "education_id        21525 non-null int64\n",
      "family_status       21525 non-null object\n",
      "family_status_id    21525 non-null int64\n",
      "gender              21525 non-null object\n",
      "income_type         21525 non-null object\n",
      "debt                21525 non-null int64\n",
      "total_income        21525 non-null float64\n",
      "purpose             21525 non-null object\n",
      "dtypes: float64(2), int64(5), object(5)\n",
      "memory usage: 2.0+ MB\n"
     ]
    }
   ],
   "source": [
    "# Удаляем вспомогательный столбец и проверяем наличие пропусков\n",
    "df = df.drop('ratio_days_employed', axis=1)\n",
    "df.info()"
   ]
  },
  {
   "cell_type": "markdown",
   "id": "da32c107",
   "metadata": {},
   "source": [
    "Видим, что все столбцы заполнены, пропусков нет."
   ]
  },
  {
   "cell_type": "markdown",
   "id": "935e62dc",
   "metadata": {},
   "source": [
    "### Шаг 2.2 Проверка данных на аномалии и исправления."
   ]
  },
  {
   "cell_type": "code",
   "execution_count": 94,
   "id": "32fe0fc5",
   "metadata": {},
   "outputs": [
    {
     "data": {
      "text/plain": [
       " 0     14149\n",
       " 1      4818\n",
       " 2      2055\n",
       " 3       330\n",
       " 20       76\n",
       "-1        47\n",
       " 4        41\n",
       " 5         9\n",
       "Name: children, dtype: int64"
      ]
     },
     "execution_count": 94,
     "metadata": {},
     "output_type": "execute_result"
    }
   ],
   "source": [
    "# Рассмотрим распределение по количеству детей\n",
    "df['children'].value_counts()"
   ]
  },
  {
   "cell_type": "markdown",
   "id": "7af53d94",
   "metadata": {},
   "source": [
    "Видим, что отрицательных значений 47, возможно такая же ошибка, как и в стаже, поэтому заменим -1 на 1.\n",
    "Строк с 20 детьми - 76, так как есть разрыв по количеству между 5 и 20 детьми, скорее всего это ошибка и исправим на 2."
   ]
  },
  {
   "cell_type": "code",
   "execution_count": 95,
   "id": "0c292a32",
   "metadata": {},
   "outputs": [],
   "source": [
    "# Заменим количество детей с -1 на 1 и с 20 на 2\n",
    "df['children'] = df['children'].replace(-1, 1)\n",
    "df['children'] = df['children'].replace(20, 2)"
   ]
  },
  {
   "cell_type": "code",
   "execution_count": 96,
   "id": "8d7b4620",
   "metadata": {},
   "outputs": [
    {
     "data": {
      "text/plain": [
       "0    14149\n",
       "1     4865\n",
       "2     2131\n",
       "3      330\n",
       "4       41\n",
       "5        9\n",
       "Name: children, dtype: int64"
      ]
     },
     "execution_count": 96,
     "metadata": {},
     "output_type": "execute_result"
    }
   ],
   "source": [
    "# Проверим распределение по количеству детей\n",
    "df['children'].value_counts()"
   ]
  },
  {
   "cell_type": "markdown",
   "id": "7a706801",
   "metadata": {},
   "source": [
    "Данные по детям выглядят правдоподобно."
   ]
  },
  {
   "cell_type": "code",
   "execution_count": 97,
   "id": "b005556e",
   "metadata": {},
   "outputs": [
    {
     "name": "stdout",
     "output_type": "stream",
     "text": [
      "Количество строк с возрастом = 0 - 101\n",
      "Количество строк с возрастом < 18 - 101\n"
     ]
    }
   ],
   "source": [
    "# Ранее в таблице было казано, что есть люди с 0 возрастом.Также проверим, сколько значени с возрастом менее 18 лет.\n",
    "print('Количество строк с возрастом = 0 -', df[df['dob_years'] == 0].count()[0])\n",
    "print('Количество строк с возрастом < 18 -', df[df['dob_years'] < 18].count()[0])"
   ]
  },
  {
   "cell_type": "markdown",
   "id": "8d03380a",
   "metadata": {},
   "source": [
    "Количество строк совпадает, значит все \"несовершеннолетние\" в выборке - строки с пропущенными значениями. Заполним значения медианой в зависимости от типа занятости. Так как возраст имеет целочисленный тип - округлим медиану."
   ]
  },
  {
   "cell_type": "code",
   "execution_count": 98,
   "id": "682ee9ad",
   "metadata": {},
   "outputs": [],
   "source": [
    "# Добавим пропущенные значения в возрасте округленной медианной взависимости от ипа данных.\n",
    "df['dob_years'] = df.groupby('income_type')['dob_years'].transform(lambda x: x.replace(0, int(x.mean())))"
   ]
  },
  {
   "cell_type": "code",
   "execution_count": 99,
   "id": "316a57d1",
   "metadata": {},
   "outputs": [
    {
     "data": {
      "text/html": [
       "<div>\n",
       "<style scoped>\n",
       "    .dataframe tbody tr th:only-of-type {\n",
       "        vertical-align: middle;\n",
       "    }\n",
       "\n",
       "    .dataframe tbody tr th {\n",
       "        vertical-align: top;\n",
       "    }\n",
       "\n",
       "    .dataframe thead th {\n",
       "        text-align: right;\n",
       "    }\n",
       "</style>\n",
       "<table border=\"1\" class=\"dataframe\">\n",
       "  <thead>\n",
       "    <tr style=\"text-align: right;\">\n",
       "      <th></th>\n",
       "      <th>children</th>\n",
       "      <th>days_employed</th>\n",
       "      <th>dob_years</th>\n",
       "      <th>education_id</th>\n",
       "      <th>family_status_id</th>\n",
       "      <th>debt</th>\n",
       "      <th>total_income</th>\n",
       "    </tr>\n",
       "  </thead>\n",
       "  <tbody>\n",
       "    <tr>\n",
       "      <td>count</td>\n",
       "      <td>21525.000000</td>\n",
       "      <td>2.152500e+04</td>\n",
       "      <td>21525.000000</td>\n",
       "      <td>21525.000000</td>\n",
       "      <td>21525.000000</td>\n",
       "      <td>21525.000000</td>\n",
       "      <td>2.152500e+04</td>\n",
       "    </tr>\n",
       "    <tr>\n",
       "      <td>mean</td>\n",
       "      <td>0.479721</td>\n",
       "      <td>1.523877e+08</td>\n",
       "      <td>43.495238</td>\n",
       "      <td>0.817236</td>\n",
       "      <td>0.972544</td>\n",
       "      <td>0.080883</td>\n",
       "      <td>1.673959e+05</td>\n",
       "    </tr>\n",
       "    <tr>\n",
       "      <td>std</td>\n",
       "      <td>0.755528</td>\n",
       "      <td>1.078813e+09</td>\n",
       "      <td>12.230322</td>\n",
       "      <td>0.548138</td>\n",
       "      <td>1.420324</td>\n",
       "      <td>0.272661</td>\n",
       "      <td>9.790695e+04</td>\n",
       "    </tr>\n",
       "    <tr>\n",
       "      <td>min</td>\n",
       "      <td>0.000000</td>\n",
       "      <td>0.000000e+00</td>\n",
       "      <td>19.000000</td>\n",
       "      <td>0.000000</td>\n",
       "      <td>0.000000</td>\n",
       "      <td>0.000000</td>\n",
       "      <td>2.066726e+04</td>\n",
       "    </tr>\n",
       "    <tr>\n",
       "      <td>25%</td>\n",
       "      <td>0.000000</td>\n",
       "      <td>1.024652e+03</td>\n",
       "      <td>34.000000</td>\n",
       "      <td>1.000000</td>\n",
       "      <td>0.000000</td>\n",
       "      <td>0.000000</td>\n",
       "      <td>1.077982e+05</td>\n",
       "    </tr>\n",
       "    <tr>\n",
       "      <td>50%</td>\n",
       "      <td>0.000000</td>\n",
       "      <td>2.605748e+03</td>\n",
       "      <td>43.000000</td>\n",
       "      <td>1.000000</td>\n",
       "      <td>0.000000</td>\n",
       "      <td>0.000000</td>\n",
       "      <td>1.519313e+05</td>\n",
       "    </tr>\n",
       "    <tr>\n",
       "      <td>75%</td>\n",
       "      <td>1.000000</td>\n",
       "      <td>3.336411e+05</td>\n",
       "      <td>53.000000</td>\n",
       "      <td>1.000000</td>\n",
       "      <td>1.000000</td>\n",
       "      <td>0.000000</td>\n",
       "      <td>2.024175e+05</td>\n",
       "    </tr>\n",
       "    <tr>\n",
       "      <td>max</td>\n",
       "      <td>5.000000</td>\n",
       "      <td>9.732179e+09</td>\n",
       "      <td>75.000000</td>\n",
       "      <td>4.000000</td>\n",
       "      <td>4.000000</td>\n",
       "      <td>1.000000</td>\n",
       "      <td>2.265604e+06</td>\n",
       "    </tr>\n",
       "  </tbody>\n",
       "</table>\n",
       "</div>"
      ],
      "text/plain": [
       "           children  days_employed     dob_years  education_id  \\\n",
       "count  21525.000000   2.152500e+04  21525.000000  21525.000000   \n",
       "mean       0.479721   1.523877e+08     43.495238      0.817236   \n",
       "std        0.755528   1.078813e+09     12.230322      0.548138   \n",
       "min        0.000000   0.000000e+00     19.000000      0.000000   \n",
       "25%        0.000000   1.024652e+03     34.000000      1.000000   \n",
       "50%        0.000000   2.605748e+03     43.000000      1.000000   \n",
       "75%        1.000000   3.336411e+05     53.000000      1.000000   \n",
       "max        5.000000   9.732179e+09     75.000000      4.000000   \n",
       "\n",
       "       family_status_id          debt  total_income  \n",
       "count      21525.000000  21525.000000  2.152500e+04  \n",
       "mean           0.972544      0.080883  1.673959e+05  \n",
       "std            1.420324      0.272661  9.790695e+04  \n",
       "min            0.000000      0.000000  2.066726e+04  \n",
       "25%            0.000000      0.000000  1.077982e+05  \n",
       "50%            0.000000      0.000000  1.519313e+05  \n",
       "75%            1.000000      0.000000  2.024175e+05  \n",
       "max            4.000000      1.000000  2.265604e+06  "
      ]
     },
     "execution_count": 99,
     "metadata": {},
     "output_type": "execute_result"
    }
   ],
   "source": [
    "# Повторно рассмотрим таблицу с данными.\n",
    "df.describe()"
   ]
  },
  {
   "cell_type": "markdown",
   "id": "1cf235fb",
   "metadata": {},
   "source": [
    "**Вывод:** Все значения заполнены и выглядят правдоподобно, кроме дней стажа (но в нашем исследовании стаж не важен)."
   ]
  },
  {
   "cell_type": "markdown",
   "id": "231a5237",
   "metadata": {},
   "source": [
    "### Шаг 2.3. Изменение типов данных."
   ]
  },
  {
   "cell_type": "code",
   "execution_count": 100,
   "id": "5d8e6632",
   "metadata": {},
   "outputs": [
    {
     "name": "stdout",
     "output_type": "stream",
     "text": [
      "<class 'pandas.core.frame.DataFrame'>\n",
      "RangeIndex: 21525 entries, 0 to 21524\n",
      "Data columns (total 12 columns):\n",
      "children            21525 non-null int64\n",
      "days_employed       21525 non-null float64\n",
      "dob_years           21525 non-null int64\n",
      "education           21525 non-null object\n",
      "education_id        21525 non-null int64\n",
      "family_status       21525 non-null object\n",
      "family_status_id    21525 non-null int64\n",
      "gender              21525 non-null object\n",
      "income_type         21525 non-null object\n",
      "debt                21525 non-null int64\n",
      "total_income        21525 non-null int64\n",
      "purpose             21525 non-null object\n",
      "dtypes: float64(1), int64(6), object(5)\n",
      "memory usage: 2.0+ MB\n"
     ]
    }
   ],
   "source": [
    "# Заменим вещественный тип данных в столбце total_income на целочисленный\n",
    "df['total_income'] = df['total_income'].astype('int')\n",
    "df.info()"
   ]
  },
  {
   "cell_type": "markdown",
   "id": "d59db2c7",
   "metadata": {},
   "source": [
    "**Вывод:** Данные представлены в соответствующих форматах."
   ]
  },
  {
   "cell_type": "markdown",
   "id": "ab3df2b6",
   "metadata": {},
   "source": [
    "### Шаг 2.4. Удаление дубликатов."
   ]
  },
  {
   "cell_type": "code",
   "execution_count": 101,
   "id": "9844fde3",
   "metadata": {},
   "outputs": [],
   "source": [
    "# Ранее мы находили, что столбец Образование заполнен неупорядоченно, \n",
    "# для дальнейшего исследования необходимо привести его к единому вид. Преобразуем значения в строчные.\n",
    "df['education'] = df['education'].str.lower()"
   ]
  },
  {
   "cell_type": "code",
   "execution_count": 102,
   "id": "b4f6f104",
   "metadata": {},
   "outputs": [
    {
     "data": {
      "text/plain": [
       "среднее                15233\n",
       "высшее                  5260\n",
       "неоконченное высшее      744\n",
       "начальное                282\n",
       "ученая степень             6\n",
       "Name: education, dtype: int64"
      ]
     },
     "execution_count": 102,
     "metadata": {},
     "output_type": "execute_result"
    }
   ],
   "source": [
    "# Проверим столбец Образование на качество заполнения\n",
    "df['education'].value_counts()"
   ]
  },
  {
   "cell_type": "markdown",
   "id": "7fa7905c",
   "metadata": {},
   "source": [
    "Значения *Образование* приведены к единому виду."
   ]
  },
  {
   "cell_type": "code",
   "execution_count": 103,
   "id": "a417111c",
   "metadata": {},
   "outputs": [
    {
     "data": {
      "text/plain": [
       "71"
      ]
     },
     "execution_count": 103,
     "metadata": {},
     "output_type": "execute_result"
    }
   ],
   "source": [
    "# Подсчитаем количество дубликатов\n",
    "df.duplicated().sum()"
   ]
  },
  {
   "cell_type": "code",
   "execution_count": 104,
   "id": "59ec4a75",
   "metadata": {},
   "outputs": [
    {
     "data": {
      "text/html": [
       "<div>\n",
       "<style scoped>\n",
       "    .dataframe tbody tr th:only-of-type {\n",
       "        vertical-align: middle;\n",
       "    }\n",
       "\n",
       "    .dataframe tbody tr th {\n",
       "        vertical-align: top;\n",
       "    }\n",
       "\n",
       "    .dataframe thead th {\n",
       "        text-align: right;\n",
       "    }\n",
       "</style>\n",
       "<table border=\"1\" class=\"dataframe\">\n",
       "  <thead>\n",
       "    <tr style=\"text-align: right;\">\n",
       "      <th></th>\n",
       "      <th>children</th>\n",
       "      <th>days_employed</th>\n",
       "      <th>dob_years</th>\n",
       "      <th>education</th>\n",
       "      <th>education_id</th>\n",
       "      <th>family_status</th>\n",
       "      <th>family_status_id</th>\n",
       "      <th>gender</th>\n",
       "      <th>income_type</th>\n",
       "      <th>debt</th>\n",
       "      <th>total_income</th>\n",
       "      <th>purpose</th>\n",
       "    </tr>\n",
       "  </thead>\n",
       "  <tbody>\n",
       "    <tr>\n",
       "      <td>8853</td>\n",
       "      <td>1</td>\n",
       "      <td>1.954434e+07</td>\n",
       "      <td>23</td>\n",
       "      <td>среднее</td>\n",
       "      <td>1</td>\n",
       "      <td>гражданский брак</td>\n",
       "      <td>1</td>\n",
       "      <td>F</td>\n",
       "      <td>сотрудник</td>\n",
       "      <td>0</td>\n",
       "      <td>161380</td>\n",
       "      <td>сыграть свадьбу</td>\n",
       "    </tr>\n",
       "    <tr>\n",
       "      <td>15892</td>\n",
       "      <td>0</td>\n",
       "      <td>1.954434e+07</td>\n",
       "      <td>23</td>\n",
       "      <td>среднее</td>\n",
       "      <td>1</td>\n",
       "      <td>Не женат / не замужем</td>\n",
       "      <td>4</td>\n",
       "      <td>F</td>\n",
       "      <td>сотрудник</td>\n",
       "      <td>0</td>\n",
       "      <td>161380</td>\n",
       "      <td>сделка с подержанным автомобилем</td>\n",
       "    </tr>\n",
       "    <tr>\n",
       "      <td>19321</td>\n",
       "      <td>0</td>\n",
       "      <td>1.954434e+07</td>\n",
       "      <td>23</td>\n",
       "      <td>среднее</td>\n",
       "      <td>1</td>\n",
       "      <td>Не женат / не замужем</td>\n",
       "      <td>4</td>\n",
       "      <td>F</td>\n",
       "      <td>сотрудник</td>\n",
       "      <td>0</td>\n",
       "      <td>161380</td>\n",
       "      <td>сделка с подержанным автомобилем</td>\n",
       "    </tr>\n",
       "    <tr>\n",
       "      <td>20297</td>\n",
       "      <td>1</td>\n",
       "      <td>1.954434e+07</td>\n",
       "      <td>23</td>\n",
       "      <td>среднее</td>\n",
       "      <td>1</td>\n",
       "      <td>гражданский брак</td>\n",
       "      <td>1</td>\n",
       "      <td>F</td>\n",
       "      <td>сотрудник</td>\n",
       "      <td>0</td>\n",
       "      <td>161380</td>\n",
       "      <td>сыграть свадьбу</td>\n",
       "    </tr>\n",
       "    <tr>\n",
       "      <td>3452</td>\n",
       "      <td>0</td>\n",
       "      <td>2.464286e+07</td>\n",
       "      <td>29</td>\n",
       "      <td>высшее</td>\n",
       "      <td>0</td>\n",
       "      <td>женат / замужем</td>\n",
       "      <td>0</td>\n",
       "      <td>M</td>\n",
       "      <td>сотрудник</td>\n",
       "      <td>0</td>\n",
       "      <td>161380</td>\n",
       "      <td>покупка жилой недвижимости</td>\n",
       "    </tr>\n",
       "    <tr>\n",
       "      <td>...</td>\n",
       "      <td>...</td>\n",
       "      <td>...</td>\n",
       "      <td>...</td>\n",
       "      <td>...</td>\n",
       "      <td>...</td>\n",
       "      <td>...</td>\n",
       "      <td>...</td>\n",
       "      <td>...</td>\n",
       "      <td>...</td>\n",
       "      <td>...</td>\n",
       "      <td>...</td>\n",
       "      <td>...</td>\n",
       "    </tr>\n",
       "    <tr>\n",
       "      <td>5865</td>\n",
       "      <td>0</td>\n",
       "      <td>8.798957e+09</td>\n",
       "      <td>66</td>\n",
       "      <td>среднее</td>\n",
       "      <td>1</td>\n",
       "      <td>вдовец / вдова</td>\n",
       "      <td>2</td>\n",
       "      <td>F</td>\n",
       "      <td>пенсионер</td>\n",
       "      <td>0</td>\n",
       "      <td>137127</td>\n",
       "      <td>операции со своей недвижимостью</td>\n",
       "    </tr>\n",
       "    <tr>\n",
       "      <td>9528</td>\n",
       "      <td>0</td>\n",
       "      <td>8.798957e+09</td>\n",
       "      <td>66</td>\n",
       "      <td>среднее</td>\n",
       "      <td>1</td>\n",
       "      <td>вдовец / вдова</td>\n",
       "      <td>2</td>\n",
       "      <td>F</td>\n",
       "      <td>пенсионер</td>\n",
       "      <td>0</td>\n",
       "      <td>137127</td>\n",
       "      <td>операции со своей недвижимостью</td>\n",
       "    </tr>\n",
       "    <tr>\n",
       "      <td>6537</td>\n",
       "      <td>0</td>\n",
       "      <td>9.465544e+09</td>\n",
       "      <td>71</td>\n",
       "      <td>среднее</td>\n",
       "      <td>1</td>\n",
       "      <td>гражданский брак</td>\n",
       "      <td>1</td>\n",
       "      <td>F</td>\n",
       "      <td>пенсионер</td>\n",
       "      <td>0</td>\n",
       "      <td>137127</td>\n",
       "      <td>на проведение свадьбы</td>\n",
       "    </tr>\n",
       "    <tr>\n",
       "      <td>7938</td>\n",
       "      <td>0</td>\n",
       "      <td>9.465544e+09</td>\n",
       "      <td>71</td>\n",
       "      <td>среднее</td>\n",
       "      <td>1</td>\n",
       "      <td>гражданский брак</td>\n",
       "      <td>1</td>\n",
       "      <td>F</td>\n",
       "      <td>пенсионер</td>\n",
       "      <td>0</td>\n",
       "      <td>137127</td>\n",
       "      <td>на проведение свадьбы</td>\n",
       "    </tr>\n",
       "    <tr>\n",
       "      <td>9604</td>\n",
       "      <td>0</td>\n",
       "      <td>9.465544e+09</td>\n",
       "      <td>71</td>\n",
       "      <td>среднее</td>\n",
       "      <td>1</td>\n",
       "      <td>гражданский брак</td>\n",
       "      <td>1</td>\n",
       "      <td>F</td>\n",
       "      <td>пенсионер</td>\n",
       "      <td>0</td>\n",
       "      <td>137127</td>\n",
       "      <td>на проведение свадьбы</td>\n",
       "    </tr>\n",
       "  </tbody>\n",
       "</table>\n",
       "<p>137 rows × 12 columns</p>\n",
       "</div>"
      ],
      "text/plain": [
       "       children  days_employed  dob_years education  education_id  \\\n",
       "8853          1   1.954434e+07         23   среднее             1   \n",
       "15892         0   1.954434e+07         23   среднее             1   \n",
       "19321         0   1.954434e+07         23   среднее             1   \n",
       "20297         1   1.954434e+07         23   среднее             1   \n",
       "3452          0   2.464286e+07         29    высшее             0   \n",
       "...         ...            ...        ...       ...           ...   \n",
       "5865          0   8.798957e+09         66   среднее             1   \n",
       "9528          0   8.798957e+09         66   среднее             1   \n",
       "6537          0   9.465544e+09         71   среднее             1   \n",
       "7938          0   9.465544e+09         71   среднее             1   \n",
       "9604          0   9.465544e+09         71   среднее             1   \n",
       "\n",
       "               family_status  family_status_id gender income_type  debt  \\\n",
       "8853        гражданский брак                 1      F   сотрудник     0   \n",
       "15892  Не женат / не замужем                 4      F   сотрудник     0   \n",
       "19321  Не женат / не замужем                 4      F   сотрудник     0   \n",
       "20297       гражданский брак                 1      F   сотрудник     0   \n",
       "3452         женат / замужем                 0      M   сотрудник     0   \n",
       "...                      ...               ...    ...         ...   ...   \n",
       "5865          вдовец / вдова                 2      F   пенсионер     0   \n",
       "9528          вдовец / вдова                 2      F   пенсионер     0   \n",
       "6537        гражданский брак                 1      F   пенсионер     0   \n",
       "7938        гражданский брак                 1      F   пенсионер     0   \n",
       "9604        гражданский брак                 1      F   пенсионер     0   \n",
       "\n",
       "       total_income                           purpose  \n",
       "8853         161380                   сыграть свадьбу  \n",
       "15892        161380  сделка с подержанным автомобилем  \n",
       "19321        161380  сделка с подержанным автомобилем  \n",
       "20297        161380                   сыграть свадьбу  \n",
       "3452         161380        покупка жилой недвижимости  \n",
       "...             ...                               ...  \n",
       "5865         137127   операции со своей недвижимостью  \n",
       "9528         137127   операции со своей недвижимостью  \n",
       "6537         137127             на проведение свадьбы  \n",
       "7938         137127             на проведение свадьбы  \n",
       "9604         137127             на проведение свадьбы  \n",
       "\n",
       "[137 rows x 12 columns]"
      ]
     },
     "execution_count": 104,
     "metadata": {},
     "output_type": "execute_result"
    }
   ],
   "source": [
    "# Проверим дубликаты\n",
    "df[df.duplicated(keep=False)].sort_values(by=['dob_years', 'days_employed'])"
   ]
  },
  {
   "cell_type": "markdown",
   "id": "4c8e3fb6",
   "metadata": {},
   "source": [
    "Видим явные дубликаты."
   ]
  },
  {
   "cell_type": "code",
   "execution_count": 105,
   "id": "b6a12ffa",
   "metadata": {},
   "outputs": [],
   "source": [
    "# Удалим явные дубликаты\n",
    "df = df.drop_duplicates()"
   ]
  },
  {
   "cell_type": "code",
   "execution_count": 106,
   "id": "b0f1be30",
   "metadata": {},
   "outputs": [
    {
     "data": {
      "text/plain": [
       "0"
      ]
     },
     "execution_count": 106,
     "metadata": {},
     "output_type": "execute_result"
    }
   ],
   "source": [
    "# Еще раз проверим количество дубликатов\n",
    "df.duplicated().sum()"
   ]
  },
  {
   "cell_type": "markdown",
   "id": "f9786553",
   "metadata": {},
   "source": [
    "**Вывод:** Неявные дубликаты возникли из-за неверного занесения вида образования (использование строчных и заглавных букв). Чтобы избегать подобные ошибки, необходимо утвердить формат внесения данных или заносить данные из справочника.\n",
    "    Явные дубликаты скорее всего - техническая ошибка."
   ]
  },
  {
   "cell_type": "markdown",
   "id": "cf0bf88e",
   "metadata": {},
   "source": [
    "### Шаг 2.5. Формирование дополнительных датафреймов словарей, декомпозиция исходного датафрейма."
   ]
  },
  {
   "cell_type": "code",
   "execution_count": 107,
   "id": "94c05bac",
   "metadata": {},
   "outputs": [
    {
     "data": {
      "text/html": [
       "<div>\n",
       "<style scoped>\n",
       "    .dataframe tbody tr th:only-of-type {\n",
       "        vertical-align: middle;\n",
       "    }\n",
       "\n",
       "    .dataframe tbody tr th {\n",
       "        vertical-align: top;\n",
       "    }\n",
       "\n",
       "    .dataframe thead th {\n",
       "        text-align: right;\n",
       "    }\n",
       "</style>\n",
       "<table border=\"1\" class=\"dataframe\">\n",
       "  <thead>\n",
       "    <tr style=\"text-align: right;\">\n",
       "      <th></th>\n",
       "      <th>education_id</th>\n",
       "      <th>education</th>\n",
       "    </tr>\n",
       "  </thead>\n",
       "  <tbody>\n",
       "    <tr>\n",
       "      <td>0</td>\n",
       "      <td>0</td>\n",
       "      <td>высшее</td>\n",
       "    </tr>\n",
       "    <tr>\n",
       "      <td>1</td>\n",
       "      <td>1</td>\n",
       "      <td>среднее</td>\n",
       "    </tr>\n",
       "    <tr>\n",
       "      <td>2</td>\n",
       "      <td>2</td>\n",
       "      <td>неоконченное высшее</td>\n",
       "    </tr>\n",
       "    <tr>\n",
       "      <td>3</td>\n",
       "      <td>3</td>\n",
       "      <td>начальное</td>\n",
       "    </tr>\n",
       "    <tr>\n",
       "      <td>4</td>\n",
       "      <td>4</td>\n",
       "      <td>ученая степень</td>\n",
       "    </tr>\n",
       "  </tbody>\n",
       "</table>\n",
       "</div>"
      ],
      "text/plain": [
       "   education_id            education\n",
       "0             0               высшее\n",
       "1             1              среднее\n",
       "2             2  неоконченное высшее\n",
       "3             3            начальное\n",
       "4             4       ученая степень"
      ]
     },
     "execution_count": 107,
     "metadata": {},
     "output_type": "execute_result"
    }
   ],
   "source": [
    "# Созадим словарь с видами образования\n",
    "dict_edu = df[['education_id', 'education']]\n",
    "dict_edu = dict_edu.drop_duplicates().reset_index(drop=True)\n",
    "dict_edu"
   ]
  },
  {
   "cell_type": "code",
   "execution_count": 108,
   "id": "3a67d5f1",
   "metadata": {},
   "outputs": [
    {
     "data": {
      "text/html": [
       "<div>\n",
       "<style scoped>\n",
       "    .dataframe tbody tr th:only-of-type {\n",
       "        vertical-align: middle;\n",
       "    }\n",
       "\n",
       "    .dataframe tbody tr th {\n",
       "        vertical-align: top;\n",
       "    }\n",
       "\n",
       "    .dataframe thead th {\n",
       "        text-align: right;\n",
       "    }\n",
       "</style>\n",
       "<table border=\"1\" class=\"dataframe\">\n",
       "  <thead>\n",
       "    <tr style=\"text-align: right;\">\n",
       "      <th></th>\n",
       "      <th>family_status_id</th>\n",
       "      <th>family_status</th>\n",
       "    </tr>\n",
       "  </thead>\n",
       "  <tbody>\n",
       "    <tr>\n",
       "      <td>0</td>\n",
       "      <td>0</td>\n",
       "      <td>женат / замужем</td>\n",
       "    </tr>\n",
       "    <tr>\n",
       "      <td>1</td>\n",
       "      <td>1</td>\n",
       "      <td>гражданский брак</td>\n",
       "    </tr>\n",
       "    <tr>\n",
       "      <td>2</td>\n",
       "      <td>2</td>\n",
       "      <td>вдовец / вдова</td>\n",
       "    </tr>\n",
       "    <tr>\n",
       "      <td>3</td>\n",
       "      <td>3</td>\n",
       "      <td>в разводе</td>\n",
       "    </tr>\n",
       "    <tr>\n",
       "      <td>4</td>\n",
       "      <td>4</td>\n",
       "      <td>Не женат / не замужем</td>\n",
       "    </tr>\n",
       "  </tbody>\n",
       "</table>\n",
       "</div>"
      ],
      "text/plain": [
       "   family_status_id          family_status\n",
       "0                 0        женат / замужем\n",
       "1                 1       гражданский брак\n",
       "2                 2         вдовец / вдова\n",
       "3                 3              в разводе\n",
       "4                 4  Не женат / не замужем"
      ]
     },
     "execution_count": 108,
     "metadata": {},
     "output_type": "execute_result"
    }
   ],
   "source": [
    "# Созадим словарь с видами семейного положения\n",
    "dict_family = df[['family_status_id', 'family_status']]\n",
    "dict_family = dict_family.drop_duplicates().reset_index(drop=True)\n",
    "dict_family"
   ]
  },
  {
   "cell_type": "code",
   "execution_count": 109,
   "id": "addf02aa",
   "metadata": {},
   "outputs": [
    {
     "data": {
      "text/html": [
       "<div>\n",
       "<style scoped>\n",
       "    .dataframe tbody tr th:only-of-type {\n",
       "        vertical-align: middle;\n",
       "    }\n",
       "\n",
       "    .dataframe tbody tr th {\n",
       "        vertical-align: top;\n",
       "    }\n",
       "\n",
       "    .dataframe thead th {\n",
       "        text-align: right;\n",
       "    }\n",
       "</style>\n",
       "<table border=\"1\" class=\"dataframe\">\n",
       "  <thead>\n",
       "    <tr style=\"text-align: right;\">\n",
       "      <th></th>\n",
       "      <th>children</th>\n",
       "      <th>days_employed</th>\n",
       "      <th>dob_years</th>\n",
       "      <th>education_id</th>\n",
       "      <th>family_status_id</th>\n",
       "      <th>gender</th>\n",
       "      <th>income_type</th>\n",
       "      <th>debt</th>\n",
       "      <th>total_income</th>\n",
       "      <th>purpose</th>\n",
       "    </tr>\n",
       "  </thead>\n",
       "  <tbody>\n",
       "    <tr>\n",
       "      <td>0</td>\n",
       "      <td>1</td>\n",
       "      <td>8437.673028</td>\n",
       "      <td>42</td>\n",
       "      <td>0</td>\n",
       "      <td>0</td>\n",
       "      <td>F</td>\n",
       "      <td>сотрудник</td>\n",
       "      <td>0</td>\n",
       "      <td>253875</td>\n",
       "      <td>покупка жилья</td>\n",
       "    </tr>\n",
       "    <tr>\n",
       "      <td>1</td>\n",
       "      <td>1</td>\n",
       "      <td>4024.803754</td>\n",
       "      <td>36</td>\n",
       "      <td>1</td>\n",
       "      <td>0</td>\n",
       "      <td>F</td>\n",
       "      <td>сотрудник</td>\n",
       "      <td>0</td>\n",
       "      <td>112080</td>\n",
       "      <td>приобретение автомобиля</td>\n",
       "    </tr>\n",
       "    <tr>\n",
       "      <td>2</td>\n",
       "      <td>0</td>\n",
       "      <td>5623.422610</td>\n",
       "      <td>33</td>\n",
       "      <td>1</td>\n",
       "      <td>0</td>\n",
       "      <td>M</td>\n",
       "      <td>сотрудник</td>\n",
       "      <td>0</td>\n",
       "      <td>145885</td>\n",
       "      <td>покупка жилья</td>\n",
       "    </tr>\n",
       "    <tr>\n",
       "      <td>3</td>\n",
       "      <td>3</td>\n",
       "      <td>4124.747207</td>\n",
       "      <td>32</td>\n",
       "      <td>1</td>\n",
       "      <td>0</td>\n",
       "      <td>M</td>\n",
       "      <td>сотрудник</td>\n",
       "      <td>0</td>\n",
       "      <td>267628</td>\n",
       "      <td>дополнительное образование</td>\n",
       "    </tr>\n",
       "    <tr>\n",
       "      <td>4</td>\n",
       "      <td>0</td>\n",
       "      <td>340266.072047</td>\n",
       "      <td>53</td>\n",
       "      <td>1</td>\n",
       "      <td>1</td>\n",
       "      <td>F</td>\n",
       "      <td>пенсионер</td>\n",
       "      <td>0</td>\n",
       "      <td>158616</td>\n",
       "      <td>сыграть свадьбу</td>\n",
       "    </tr>\n",
       "  </tbody>\n",
       "</table>\n",
       "</div>"
      ],
      "text/plain": [
       "   children  days_employed  dob_years  education_id  family_status_id gender  \\\n",
       "0         1    8437.673028         42             0                 0      F   \n",
       "1         1    4024.803754         36             1                 0      F   \n",
       "2         0    5623.422610         33             1                 0      M   \n",
       "3         3    4124.747207         32             1                 0      M   \n",
       "4         0  340266.072047         53             1                 1      F   \n",
       "\n",
       "  income_type  debt  total_income                     purpose  \n",
       "0   сотрудник     0        253875               покупка жилья  \n",
       "1   сотрудник     0        112080     приобретение автомобиля  \n",
       "2   сотрудник     0        145885               покупка жилья  \n",
       "3   сотрудник     0        267628  дополнительное образование  \n",
       "4   пенсионер     0        158616             сыграть свадьбу  "
      ]
     },
     "execution_count": 109,
     "metadata": {},
     "output_type": "execute_result"
    }
   ],
   "source": [
    "# Удалим из исходной таблицы столбцы education и family_status\n",
    "df = df.drop(['education', 'family_status'], axis=1)\n",
    "df.head()"
   ]
  },
  {
   "cell_type": "markdown",
   "id": "902949e5",
   "metadata": {},
   "source": [
    "**Вывод:** Создали словари со значениями вида образования и семейного статуса и удалили описания значений из исходной таблицы. Применение слованрей позволяет уменьшить размер исходной таблицы и упростить операции над ней."
   ]
  },
  {
   "cell_type": "markdown",
   "id": "5fcad06a",
   "metadata": {},
   "source": [
    "### Шаг 2.6. Категоризация дохода."
   ]
  },
  {
   "cell_type": "code",
   "execution_count": 110,
   "id": "3f45a832",
   "metadata": {},
   "outputs": [],
   "source": [
    "# Присвоим всем заемщикам категории в зависимости от их дохода, для этого создадим функцию\n",
    "def total_income_cat(row):\n",
    "    if row['total_income'] <= 30000:\n",
    "        return 'E'\n",
    "    elif row['total_income'] <= 50000:\n",
    "        return 'D'\n",
    "    elif row['total_income'] <= 200000:\n",
    "        return 'C'\n",
    "    elif row['total_income'] <= 1000000:\n",
    "        return 'B'\n",
    "    else:\n",
    "        return 'A'"
   ]
  },
  {
   "cell_type": "code",
   "execution_count": 111,
   "id": "4c6a0362",
   "metadata": {},
   "outputs": [
    {
     "data": {
      "text/html": [
       "<div>\n",
       "<style scoped>\n",
       "    .dataframe tbody tr th:only-of-type {\n",
       "        vertical-align: middle;\n",
       "    }\n",
       "\n",
       "    .dataframe tbody tr th {\n",
       "        vertical-align: top;\n",
       "    }\n",
       "\n",
       "    .dataframe thead th {\n",
       "        text-align: right;\n",
       "    }\n",
       "</style>\n",
       "<table border=\"1\" class=\"dataframe\">\n",
       "  <thead>\n",
       "    <tr style=\"text-align: right;\">\n",
       "      <th></th>\n",
       "      <th>children</th>\n",
       "      <th>days_employed</th>\n",
       "      <th>dob_years</th>\n",
       "      <th>education_id</th>\n",
       "      <th>family_status_id</th>\n",
       "      <th>gender</th>\n",
       "      <th>income_type</th>\n",
       "      <th>debt</th>\n",
       "      <th>total_income</th>\n",
       "      <th>purpose</th>\n",
       "      <th>total_income_category</th>\n",
       "    </tr>\n",
       "  </thead>\n",
       "  <tbody>\n",
       "    <tr>\n",
       "      <td>0</td>\n",
       "      <td>1</td>\n",
       "      <td>8437.673028</td>\n",
       "      <td>42</td>\n",
       "      <td>0</td>\n",
       "      <td>0</td>\n",
       "      <td>F</td>\n",
       "      <td>сотрудник</td>\n",
       "      <td>0</td>\n",
       "      <td>253875</td>\n",
       "      <td>покупка жилья</td>\n",
       "      <td>B</td>\n",
       "    </tr>\n",
       "    <tr>\n",
       "      <td>1</td>\n",
       "      <td>1</td>\n",
       "      <td>4024.803754</td>\n",
       "      <td>36</td>\n",
       "      <td>1</td>\n",
       "      <td>0</td>\n",
       "      <td>F</td>\n",
       "      <td>сотрудник</td>\n",
       "      <td>0</td>\n",
       "      <td>112080</td>\n",
       "      <td>приобретение автомобиля</td>\n",
       "      <td>C</td>\n",
       "    </tr>\n",
       "    <tr>\n",
       "      <td>2</td>\n",
       "      <td>0</td>\n",
       "      <td>5623.422610</td>\n",
       "      <td>33</td>\n",
       "      <td>1</td>\n",
       "      <td>0</td>\n",
       "      <td>M</td>\n",
       "      <td>сотрудник</td>\n",
       "      <td>0</td>\n",
       "      <td>145885</td>\n",
       "      <td>покупка жилья</td>\n",
       "      <td>C</td>\n",
       "    </tr>\n",
       "    <tr>\n",
       "      <td>3</td>\n",
       "      <td>3</td>\n",
       "      <td>4124.747207</td>\n",
       "      <td>32</td>\n",
       "      <td>1</td>\n",
       "      <td>0</td>\n",
       "      <td>M</td>\n",
       "      <td>сотрудник</td>\n",
       "      <td>0</td>\n",
       "      <td>267628</td>\n",
       "      <td>дополнительное образование</td>\n",
       "      <td>B</td>\n",
       "    </tr>\n",
       "    <tr>\n",
       "      <td>4</td>\n",
       "      <td>0</td>\n",
       "      <td>340266.072047</td>\n",
       "      <td>53</td>\n",
       "      <td>1</td>\n",
       "      <td>1</td>\n",
       "      <td>F</td>\n",
       "      <td>пенсионер</td>\n",
       "      <td>0</td>\n",
       "      <td>158616</td>\n",
       "      <td>сыграть свадьбу</td>\n",
       "      <td>C</td>\n",
       "    </tr>\n",
       "  </tbody>\n",
       "</table>\n",
       "</div>"
      ],
      "text/plain": [
       "   children  days_employed  dob_years  education_id  family_status_id gender  \\\n",
       "0         1    8437.673028         42             0                 0      F   \n",
       "1         1    4024.803754         36             1                 0      F   \n",
       "2         0    5623.422610         33             1                 0      M   \n",
       "3         3    4124.747207         32             1                 0      M   \n",
       "4         0  340266.072047         53             1                 1      F   \n",
       "\n",
       "  income_type  debt  total_income                     purpose  \\\n",
       "0   сотрудник     0        253875               покупка жилья   \n",
       "1   сотрудник     0        112080     приобретение автомобиля   \n",
       "2   сотрудник     0        145885               покупка жилья   \n",
       "3   сотрудник     0        267628  дополнительное образование   \n",
       "4   пенсионер     0        158616             сыграть свадьбу   \n",
       "\n",
       "  total_income_category  \n",
       "0                     B  \n",
       "1                     C  \n",
       "2                     C  \n",
       "3                     B  \n",
       "4                     C  "
      ]
     },
     "execution_count": 111,
     "metadata": {},
     "output_type": "execute_result"
    }
   ],
   "source": [
    "# Применим функцию и запишем данные в новый столбец\n",
    "df['total_income_category'] = df.apply(total_income_cat, axis=1)\n",
    "df.head()"
   ]
  },
  {
   "cell_type": "markdown",
   "id": "5e03d74c",
   "metadata": {},
   "source": [
    "**Вывод:**\n",
    "В данном разделе создали функцию и присвоили заемщикам категорию в зависимости от их дохода."
   ]
  },
  {
   "cell_type": "markdown",
   "id": "216829a3",
   "metadata": {},
   "source": [
    "### Шаг 2.7. Категоризация целей кредита."
   ]
  },
  {
   "cell_type": "code",
   "execution_count": 112,
   "id": "4a774aa4",
   "metadata": {},
   "outputs": [
    {
     "data": {
      "text/plain": [
       "свадьба                                   791\n",
       "на проведение свадьбы                     768\n",
       "сыграть свадьбу                           765\n",
       "операции с недвижимостью                  675\n",
       "покупка коммерческой недвижимости         661\n",
       "операции с жильем                         652\n",
       "покупка жилья для сдачи                   651\n",
       "операции с коммерческой недвижимостью     650\n",
       "жилье                                     646\n",
       "покупка жилья                             646\n",
       "покупка жилья для семьи                   638\n",
       "строительство собственной недвижимости    635\n",
       "недвижимость                              633\n",
       "операции со своей недвижимостью           627\n",
       "строительство жилой недвижимости          624\n",
       "покупка недвижимости                      621\n",
       "покупка своего жилья                      620\n",
       "строительство недвижимости                619\n",
       "ремонт жилью                              607\n",
       "покупка жилой недвижимости                606\n",
       "на покупку своего автомобиля              505\n",
       "заняться высшим образованием              496\n",
       "автомобиль                                494\n",
       "сделка с подержанным автомобилем          486\n",
       "на покупку подержанного автомобиля        478\n",
       "свой автомобиль                           478\n",
       "автомобили                                478\n",
       "на покупку автомобиля                     471\n",
       "приобретение автомобиля                   461\n",
       "дополнительное образование                460\n",
       "сделка с автомобилем                      455\n",
       "высшее образование                        452\n",
       "образование                               447\n",
       "получение дополнительного образования     446\n",
       "получение образования                     442\n",
       "профильное образование                    436\n",
       "получение высшего образования             426\n",
       "заняться образованием                     408\n",
       "Name: purpose, dtype: int64"
      ]
     },
     "execution_count": 112,
     "metadata": {},
     "output_type": "execute_result"
    }
   ],
   "source": [
    "# Рассмотрим все цели взятия кредита\n",
    "df['purpose'].value_counts()"
   ]
  },
  {
   "cell_type": "code",
   "execution_count": 113,
   "id": "ed6cdcd1",
   "metadata": {},
   "outputs": [],
   "source": [
    "# Приведем все цели кредитования к 4 категориям, для этого напишем функцию\n",
    "def purpose_cat(row):\n",
    "    if 'недв' in row['purpose']:\n",
    "        return 'операции с недвижимостью'\n",
    "    if 'жил' in row['purpose']:\n",
    "        return 'операции с недвижимостью'\n",
    "    if 'автом' in row['purpose']:\n",
    "        return 'операции с автомобилем'\n",
    "    if 'свад' in row['purpose']:\n",
    "        return 'проведение свадьбы'\n",
    "    if 'образ' in row['purpose']:\n",
    "        return 'получение образования'\n",
    "    else:\n",
    "        return 'другое'"
   ]
  },
  {
   "cell_type": "code",
   "execution_count": 114,
   "id": "207e8f29",
   "metadata": {},
   "outputs": [
    {
     "data": {
      "text/html": [
       "<div>\n",
       "<style scoped>\n",
       "    .dataframe tbody tr th:only-of-type {\n",
       "        vertical-align: middle;\n",
       "    }\n",
       "\n",
       "    .dataframe tbody tr th {\n",
       "        vertical-align: top;\n",
       "    }\n",
       "\n",
       "    .dataframe thead th {\n",
       "        text-align: right;\n",
       "    }\n",
       "</style>\n",
       "<table border=\"1\" class=\"dataframe\">\n",
       "  <thead>\n",
       "    <tr style=\"text-align: right;\">\n",
       "      <th></th>\n",
       "      <th>children</th>\n",
       "      <th>days_employed</th>\n",
       "      <th>dob_years</th>\n",
       "      <th>education_id</th>\n",
       "      <th>family_status_id</th>\n",
       "      <th>gender</th>\n",
       "      <th>income_type</th>\n",
       "      <th>debt</th>\n",
       "      <th>total_income</th>\n",
       "      <th>purpose</th>\n",
       "      <th>total_income_category</th>\n",
       "      <th>purpose_category</th>\n",
       "    </tr>\n",
       "  </thead>\n",
       "  <tbody>\n",
       "    <tr>\n",
       "      <td>0</td>\n",
       "      <td>1</td>\n",
       "      <td>8437.673028</td>\n",
       "      <td>42</td>\n",
       "      <td>0</td>\n",
       "      <td>0</td>\n",
       "      <td>F</td>\n",
       "      <td>сотрудник</td>\n",
       "      <td>0</td>\n",
       "      <td>253875</td>\n",
       "      <td>покупка жилья</td>\n",
       "      <td>B</td>\n",
       "      <td>операции с недвижимостью</td>\n",
       "    </tr>\n",
       "    <tr>\n",
       "      <td>1</td>\n",
       "      <td>1</td>\n",
       "      <td>4024.803754</td>\n",
       "      <td>36</td>\n",
       "      <td>1</td>\n",
       "      <td>0</td>\n",
       "      <td>F</td>\n",
       "      <td>сотрудник</td>\n",
       "      <td>0</td>\n",
       "      <td>112080</td>\n",
       "      <td>приобретение автомобиля</td>\n",
       "      <td>C</td>\n",
       "      <td>операции с автомобилем</td>\n",
       "    </tr>\n",
       "    <tr>\n",
       "      <td>2</td>\n",
       "      <td>0</td>\n",
       "      <td>5623.422610</td>\n",
       "      <td>33</td>\n",
       "      <td>1</td>\n",
       "      <td>0</td>\n",
       "      <td>M</td>\n",
       "      <td>сотрудник</td>\n",
       "      <td>0</td>\n",
       "      <td>145885</td>\n",
       "      <td>покупка жилья</td>\n",
       "      <td>C</td>\n",
       "      <td>операции с недвижимостью</td>\n",
       "    </tr>\n",
       "    <tr>\n",
       "      <td>3</td>\n",
       "      <td>3</td>\n",
       "      <td>4124.747207</td>\n",
       "      <td>32</td>\n",
       "      <td>1</td>\n",
       "      <td>0</td>\n",
       "      <td>M</td>\n",
       "      <td>сотрудник</td>\n",
       "      <td>0</td>\n",
       "      <td>267628</td>\n",
       "      <td>дополнительное образование</td>\n",
       "      <td>B</td>\n",
       "      <td>получение образования</td>\n",
       "    </tr>\n",
       "    <tr>\n",
       "      <td>4</td>\n",
       "      <td>0</td>\n",
       "      <td>340266.072047</td>\n",
       "      <td>53</td>\n",
       "      <td>1</td>\n",
       "      <td>1</td>\n",
       "      <td>F</td>\n",
       "      <td>пенсионер</td>\n",
       "      <td>0</td>\n",
       "      <td>158616</td>\n",
       "      <td>сыграть свадьбу</td>\n",
       "      <td>C</td>\n",
       "      <td>проведение свадьбы</td>\n",
       "    </tr>\n",
       "  </tbody>\n",
       "</table>\n",
       "</div>"
      ],
      "text/plain": [
       "   children  days_employed  dob_years  education_id  family_status_id gender  \\\n",
       "0         1    8437.673028         42             0                 0      F   \n",
       "1         1    4024.803754         36             1                 0      F   \n",
       "2         0    5623.422610         33             1                 0      M   \n",
       "3         3    4124.747207         32             1                 0      M   \n",
       "4         0  340266.072047         53             1                 1      F   \n",
       "\n",
       "  income_type  debt  total_income                     purpose  \\\n",
       "0   сотрудник     0        253875               покупка жилья   \n",
       "1   сотрудник     0        112080     приобретение автомобиля   \n",
       "2   сотрудник     0        145885               покупка жилья   \n",
       "3   сотрудник     0        267628  дополнительное образование   \n",
       "4   пенсионер     0        158616             сыграть свадьбу   \n",
       "\n",
       "  total_income_category          purpose_category  \n",
       "0                     B  операции с недвижимостью  \n",
       "1                     C    операции с автомобилем  \n",
       "2                     C  операции с недвижимостью  \n",
       "3                     B     получение образования  \n",
       "4                     C        проведение свадьбы  "
      ]
     },
     "execution_count": 114,
     "metadata": {},
     "output_type": "execute_result"
    }
   ],
   "source": [
    "# Применим функцию и запишем данные в новый столбец\n",
    "df['purpose_category'] = df.apply(purpose_cat, axis=1)\n",
    "df.head()"
   ]
  },
  {
   "cell_type": "code",
   "execution_count": 115,
   "id": "a269ab0f",
   "metadata": {},
   "outputs": [
    {
     "data": {
      "text/plain": [
       "операции с недвижимостью    10811\n",
       "операции с автомобилем       4306\n",
       "получение образования        4013\n",
       "проведение свадьбы           2324\n",
       "Name: purpose_category, dtype: int64"
      ]
     },
     "execution_count": 115,
     "metadata": {},
     "output_type": "execute_result"
    }
   ],
   "source": [
    "# Проверим, что присвоены все категории\n",
    "df['purpose_category'].value_counts()"
   ]
  },
  {
   "cell_type": "markdown",
   "id": "6566d57d",
   "metadata": {},
   "source": [
    "### Ответы на вопросы."
   ]
  },
  {
   "cell_type": "markdown",
   "id": "dfd84f65",
   "metadata": {},
   "source": [
    "##### Вопрос 1: \n",
    "**Есть ли зависимость между количеством детей и возвратом кредита в срок?**"
   ]
  },
  {
   "cell_type": "code",
   "execution_count": 116,
   "id": "4189bbb9",
   "metadata": {},
   "outputs": [
    {
     "name": "stdout",
     "output_type": "stream",
     "text": [
      "              debt\n",
      "children          \n",
      "5         0.000000\n",
      "0         0.075438\n",
      "3         0.081818\n",
      "1         0.091658\n",
      "2         0.094925\n",
      "4         0.097561\n"
     ]
    }
   ],
   "source": [
    "# Для ответа на вопрос построим сводную таблицу зависимости задолженности по кредиту и количеству детей\n",
    "df_pivot = df.pivot_table(index='children', values='debt', aggfunc='mean')\n",
    "print(df_pivot.sort_values(by='debt')) "
   ]
  },
  {
   "cell_type": "markdown",
   "id": "3f2603bf",
   "metadata": {},
   "source": [
    "##### Вывод 1:"
   ]
  },
  {
   "cell_type": "markdown",
   "id": "ce398b49",
   "metadata": {},
   "source": [
    "Заемщики без детей имеют наименьшую задолженность по возврату кредита. У заемщиков с 5 детьми 0 просроченных кредитов, но это связано с малым количеством таких заемщиков."
   ]
  },
  {
   "cell_type": "markdown",
   "id": "f8a2d801",
   "metadata": {},
   "source": [
    "##### Вопрос 2: \n",
    "**Есть ли зависимость между семейным положением и возвратом кредита в срок?**"
   ]
  },
  {
   "cell_type": "code",
   "execution_count": 117,
   "id": "4371f345",
   "metadata": {},
   "outputs": [
    {
     "name": "stdout",
     "output_type": "stream",
     "text": [
      "                           debt\n",
      "family_status                  \n",
      "вдовец / вдова         0.065693\n",
      "в разводе              0.071130\n",
      "женат / замужем        0.075452\n",
      "гражданский брак       0.093471\n",
      "Не женат / не замужем  0.097509\n"
     ]
    }
   ],
   "source": [
    "# Для ответа на вопрос построим сводную таблицу зависимости задолженности по кредиту и семейному положению\n",
    "# Так как описание семейного положения вынесено в отдельный справочник, вначале соединим две таблицы\n",
    "df_merge = df.merge(dict_family, on='family_status_id', how='left')\n",
    "df_pivot = df_merge.pivot_table(index='family_status', values='debt', aggfunc='mean')\n",
    "print(df_pivot.sort_values(by='debt')) "
   ]
  },
  {
   "cell_type": "markdown",
   "id": "188e6432",
   "metadata": {},
   "source": [
    "##### Вывод 2:"
   ]
  },
  {
   "cell_type": "markdown",
   "id": "ae0d70ab",
   "metadata": {},
   "source": [
    "Заемщики холостые и в гражданском браке имеют наибольшую долю просроченных кредитов."
   ]
  },
  {
   "cell_type": "markdown",
   "id": "3402f42a",
   "metadata": {},
   "source": [
    "##### Вопрос 3: \n",
    "**Есть ли зависимость между уровнем дохода и возвратом кредита в срок?**"
   ]
  },
  {
   "cell_type": "code",
   "execution_count": 118,
   "id": "b951dcf4",
   "metadata": {},
   "outputs": [
    {
     "name": "stdout",
     "output_type": "stream",
     "text": [
      "                           debt\n",
      "total_income_category          \n",
      "D                      0.060000\n",
      "B                      0.069637\n",
      "A                      0.080000\n",
      "C                      0.085729\n",
      "E                      0.090909\n"
     ]
    }
   ],
   "source": [
    "# Для ответа на вопрос построим сводную таблицу зависимости задолженности по кредиту и уровню дохода\n",
    "df_pivot = df.pivot_table(index='total_income_category', values='debt', aggfunc='mean')\n",
    "print(df_pivot.sort_values(by='debt')) "
   ]
  },
  {
   "cell_type": "markdown",
   "id": "04acba6c",
   "metadata": {},
   "source": [
    "##### Вывод 3:"
   ]
  },
  {
   "cell_type": "markdown",
   "id": "a0659e36",
   "metadata": {},
   "source": [
    "Наименьшую долю просрочек по кредиту имеют заемщики с доходом от 30 тыс. до 50 тыс., а наибольшую долю просрочек - заемщики с самым низким доходом."
   ]
  },
  {
   "cell_type": "markdown",
   "id": "7f465f07",
   "metadata": {},
   "source": [
    "##### Вопрос 4: \n",
    "**Как разные цели кредита влияют на его возврат в срок?**"
   ]
  },
  {
   "cell_type": "code",
   "execution_count": 119,
   "id": "753d3dcd",
   "metadata": {},
   "outputs": [
    {
     "name": "stdout",
     "output_type": "stream",
     "text": [
      "                              debt\n",
      "purpose_category                  \n",
      "операции с недвижимостью  0.072334\n",
      "проведение свадьбы        0.080034\n",
      "получение образования     0.092200\n",
      "операции с автомобилем    0.093590\n"
     ]
    }
   ],
   "source": [
    "# Для ответа на вопрос построим сводную таблицу зависимости задолженности по кредиту и цели займа\n",
    "df_pivot = df.pivot_table(index='purpose_category', values='debt', aggfunc='mean')\n",
    "print(df_pivot.sort_values(by='debt')) "
   ]
  },
  {
   "cell_type": "markdown",
   "id": "0cf968cd",
   "metadata": {},
   "source": [
    "##### Вывод 4:"
   ]
  },
  {
   "cell_type": "markdown",
   "id": "44a2a5d1",
   "metadata": {},
   "source": [
    "Операции с недвижимостью дают наименьшую долю задолженности по кредиту."
   ]
  },
  {
   "cell_type": "markdown",
   "id": "8dad343d",
   "metadata": {},
   "source": [
    "## Общий вывод:"
   ]
  },
  {
   "cell_type": "markdown",
   "id": "bee1e3b5",
   "metadata": {},
   "source": [
    "На вопрос \"Влияет ли семейное положение и количество детей клиента на факт погашения кредита в срок\" можно дать однозначный ответ, что **влияют**.\n",
    "Наименьшую долю задолженности по кредиту имеют заемщики без детей и вдовые.  "
   ]
  }
 ],
 "metadata": {
  "ExecuteTimeLog": [
   {
    "duration": 705,
    "start_time": "2022-02-09T22:05:39.000Z"
   },
   {
    "duration": 59,
    "start_time": "2022-02-09T22:08:16.749Z"
   },
   {
    "duration": 62,
    "start_time": "2022-02-09T22:09:04.667Z"
   },
   {
    "duration": 64,
    "start_time": "2022-02-09T22:09:36.124Z"
   },
   {
    "duration": 75,
    "start_time": "2022-02-10T02:38:56.183Z"
   },
   {
    "duration": 11,
    "start_time": "2022-02-10T02:40:11.001Z"
   },
   {
    "duration": 63,
    "start_time": "2022-02-10T02:42:25.567Z"
   },
   {
    "duration": 345,
    "start_time": "2022-02-10T02:53:38.448Z"
   },
   {
    "duration": 35,
    "start_time": "2022-02-10T02:53:44.232Z"
   },
   {
    "duration": 36,
    "start_time": "2022-02-10T02:54:52.622Z"
   },
   {
    "duration": 6895,
    "start_time": "2022-02-10T03:48:39.480Z"
   },
   {
    "duration": 6341,
    "start_time": "2022-02-10T03:49:15.190Z"
   },
   {
    "duration": 10,
    "start_time": "2022-02-10T03:49:43.997Z"
   },
   {
    "duration": 10,
    "start_time": "2022-02-10T04:01:20.936Z"
   },
   {
    "duration": 274,
    "start_time": "2022-02-10T04:14:34.517Z"
   },
   {
    "duration": 260,
    "start_time": "2022-02-10T04:15:03.791Z"
   },
   {
    "duration": 4,
    "start_time": "2022-02-10T04:15:15.261Z"
   },
   {
    "duration": 10,
    "start_time": "2022-02-10T04:21:07.582Z"
   },
   {
    "duration": 271,
    "start_time": "2022-02-10T04:25:27.979Z"
   },
   {
    "duration": 269,
    "start_time": "2022-02-10T04:25:35.821Z"
   },
   {
    "duration": 17,
    "start_time": "2022-02-10T04:29:58.653Z"
   },
   {
    "duration": 7,
    "start_time": "2022-02-10T04:30:30.214Z"
   },
   {
    "duration": 16,
    "start_time": "2022-02-10T04:35:26.011Z"
   },
   {
    "duration": 13,
    "start_time": "2022-02-10T04:35:40.869Z"
   },
   {
    "duration": 11,
    "start_time": "2022-02-10T05:04:04.258Z"
   },
   {
    "duration": 260,
    "start_time": "2022-02-10T05:38:39.151Z"
   },
   {
    "duration": 279,
    "start_time": "2022-02-10T05:38:59.985Z"
   },
   {
    "duration": 23,
    "start_time": "2022-02-10T05:39:16.954Z"
   },
   {
    "duration": 286,
    "start_time": "2022-02-10T06:00:15.390Z"
   },
   {
    "duration": 22,
    "start_time": "2022-02-10T06:00:21.230Z"
   },
   {
    "duration": 20,
    "start_time": "2022-02-10T06:01:13.047Z"
   },
   {
    "duration": 8,
    "start_time": "2022-02-10T06:01:53.377Z"
   },
   {
    "duration": 21,
    "start_time": "2022-02-10T06:02:40.232Z"
   },
   {
    "duration": 11,
    "start_time": "2022-02-10T06:10:15.552Z"
   },
   {
    "duration": 453,
    "start_time": "2022-02-10T06:10:16.495Z"
   },
   {
    "duration": 21,
    "start_time": "2022-02-10T06:10:25.727Z"
   },
   {
    "duration": 14,
    "start_time": "2022-02-10T06:10:28.376Z"
   },
   {
    "duration": 4,
    "start_time": "2022-02-10T06:13:25.078Z"
   },
   {
    "duration": 266,
    "start_time": "2022-02-10T06:19:38.062Z"
   },
   {
    "duration": 254,
    "start_time": "2022-02-10T06:19:42.999Z"
   },
   {
    "duration": 8,
    "start_time": "2022-02-10T06:20:39.175Z"
   },
   {
    "duration": 7,
    "start_time": "2022-02-10T06:21:59.854Z"
   },
   {
    "duration": 7,
    "start_time": "2022-02-10T06:23:08.117Z"
   },
   {
    "duration": 91,
    "start_time": "2022-02-10T06:25:10.566Z"
   },
   {
    "duration": 95,
    "start_time": "2022-02-10T06:25:32.038Z"
   },
   {
    "duration": 7,
    "start_time": "2022-02-10T06:25:39.606Z"
   },
   {
    "duration": 274,
    "start_time": "2022-02-13T04:34:53.772Z"
   },
   {
    "duration": 725,
    "start_time": "2022-02-13T04:35:01.622Z"
   },
   {
    "duration": 15,
    "start_time": "2022-02-13T04:35:06.472Z"
   },
   {
    "duration": 36,
    "start_time": "2022-02-13T04:35:09.533Z"
   },
   {
    "duration": 7,
    "start_time": "2022-02-13T04:38:33.912Z"
   },
   {
    "duration": 6,
    "start_time": "2022-02-13T04:46:18.062Z"
   },
   {
    "duration": 6,
    "start_time": "2022-02-13T04:48:39.117Z"
   },
   {
    "duration": 6,
    "start_time": "2022-02-13T04:49:08.469Z"
   },
   {
    "duration": 10,
    "start_time": "2022-02-13T04:56:51.989Z"
   },
   {
    "duration": 273,
    "start_time": "2022-02-13T05:00:21.912Z"
   },
   {
    "duration": 18,
    "start_time": "2022-02-13T05:00:47.792Z"
   },
   {
    "duration": 36,
    "start_time": "2022-02-13T05:01:37.372Z"
   },
   {
    "duration": 34,
    "start_time": "2022-02-13T05:02:04.382Z"
   },
   {
    "duration": 59,
    "start_time": "2022-02-13T05:02:36.461Z"
   },
   {
    "duration": 12,
    "start_time": "2022-02-13T05:02:36.522Z"
   },
   {
    "duration": 36,
    "start_time": "2022-02-13T05:02:36.536Z"
   },
   {
    "duration": 35,
    "start_time": "2022-02-13T05:02:36.574Z"
   },
   {
    "duration": 11,
    "start_time": "2022-02-13T05:02:36.616Z"
   },
   {
    "duration": 14,
    "start_time": "2022-02-13T05:02:36.630Z"
   },
   {
    "duration": 10,
    "start_time": "2022-02-13T05:02:36.646Z"
   },
   {
    "duration": 10,
    "start_time": "2022-02-13T05:02:36.658Z"
   },
   {
    "duration": 40,
    "start_time": "2022-02-13T05:02:36.670Z"
   },
   {
    "duration": 35,
    "start_time": "2022-02-13T05:02:36.713Z"
   },
   {
    "duration": 35,
    "start_time": "2022-02-13T05:02:36.750Z"
   },
   {
    "duration": 34,
    "start_time": "2022-02-13T05:02:36.787Z"
   },
   {
    "duration": 23,
    "start_time": "2022-02-13T05:02:36.824Z"
   },
   {
    "duration": 41,
    "start_time": "2022-02-13T05:02:36.849Z"
   },
   {
    "duration": 16,
    "start_time": "2022-02-13T05:02:36.892Z"
   },
   {
    "duration": 18,
    "start_time": "2022-02-13T05:02:36.910Z"
   },
   {
    "duration": 23,
    "start_time": "2022-02-13T05:02:36.930Z"
   },
   {
    "duration": 10,
    "start_time": "2022-02-13T05:02:36.955Z"
   },
   {
    "duration": 33,
    "start_time": "2022-02-13T05:02:36.967Z"
   },
   {
    "duration": 26,
    "start_time": "2022-02-13T05:02:37.002Z"
   },
   {
    "duration": 34,
    "start_time": "2022-02-13T05:02:39.272Z"
   },
   {
    "duration": 4,
    "start_time": "2022-02-13T05:26:19.539Z"
   },
   {
    "duration": 14,
    "start_time": "2022-02-13T05:27:03.217Z"
   },
   {
    "duration": 94,
    "start_time": "2022-02-13T05:28:20.293Z"
   },
   {
    "duration": 12,
    "start_time": "2022-02-13T05:32:53.223Z"
   },
   {
    "duration": 10,
    "start_time": "2022-02-13T05:33:21.549Z"
   },
   {
    "duration": 86,
    "start_time": "2022-02-13T05:36:14.171Z"
   },
   {
    "duration": 85,
    "start_time": "2022-02-13T05:37:05.642Z"
   },
   {
    "duration": 76,
    "start_time": "2022-02-13T05:37:34.176Z"
   },
   {
    "duration": 5,
    "start_time": "2022-02-13T05:38:01.186Z"
   },
   {
    "duration": 5,
    "start_time": "2022-02-13T05:38:52.279Z"
   },
   {
    "duration": 5,
    "start_time": "2022-02-13T05:39:01.250Z"
   },
   {
    "duration": 4,
    "start_time": "2022-02-13T05:40:08.410Z"
   },
   {
    "duration": 8,
    "start_time": "2022-02-13T05:40:22.022Z"
   },
   {
    "duration": 5,
    "start_time": "2022-02-13T05:40:32.990Z"
   },
   {
    "duration": 5,
    "start_time": "2022-02-13T05:40:46.595Z"
   },
   {
    "duration": 5,
    "start_time": "2022-02-13T05:41:04.591Z"
   },
   {
    "duration": 20,
    "start_time": "2022-02-13T05:45:16.110Z"
   },
   {
    "duration": 33,
    "start_time": "2022-02-13T06:04:28.513Z"
   },
   {
    "duration": 82,
    "start_time": "2022-02-13T06:05:15.411Z"
   },
   {
    "duration": 34,
    "start_time": "2022-02-13T06:05:45.141Z"
   },
   {
    "duration": 19,
    "start_time": "2022-02-13T06:07:02.253Z"
   },
   {
    "duration": 18,
    "start_time": "2022-02-13T06:07:51.654Z"
   },
   {
    "duration": 11,
    "start_time": "2022-02-13T06:18:22.092Z"
   },
   {
    "duration": 15,
    "start_time": "2022-02-13T06:18:51.920Z"
   },
   {
    "duration": 14,
    "start_time": "2022-02-13T06:19:02.952Z"
   },
   {
    "duration": 13,
    "start_time": "2022-02-13T06:19:52.952Z"
   },
   {
    "duration": 255,
    "start_time": "2022-02-13T06:21:35.180Z"
   },
   {
    "duration": 13,
    "start_time": "2022-02-13T06:22:14.033Z"
   },
   {
    "duration": 406,
    "start_time": "2022-02-13T06:26:10.141Z"
   },
   {
    "duration": 16,
    "start_time": "2022-02-13T06:26:26.407Z"
   },
   {
    "duration": 4,
    "start_time": "2022-02-13T06:47:43.792Z"
   },
   {
    "duration": 532,
    "start_time": "2022-02-13T06:47:52.652Z"
   },
   {
    "duration": 9,
    "start_time": "2022-02-13T07:04:27.562Z"
   },
   {
    "duration": 4,
    "start_time": "2022-02-13T07:09:40.610Z"
   },
   {
    "duration": 461,
    "start_time": "2022-02-13T07:10:35.792Z"
   },
   {
    "duration": 8,
    "start_time": "2022-02-13T07:11:15.449Z"
   },
   {
    "duration": 14,
    "start_time": "2022-02-13T07:22:51.870Z"
   },
   {
    "duration": 259,
    "start_time": "2022-02-13T07:23:18.673Z"
   },
   {
    "duration": 16,
    "start_time": "2022-02-13T07:23:54.157Z"
   },
   {
    "duration": 4,
    "start_time": "2022-02-13T07:29:25.692Z"
   },
   {
    "duration": 28,
    "start_time": "2022-02-13T07:33:14.953Z"
   },
   {
    "duration": 14,
    "start_time": "2022-02-13T07:47:47.672Z"
   },
   {
    "duration": 16,
    "start_time": "2022-02-13T08:00:00.232Z"
   },
   {
    "duration": 60,
    "start_time": "2022-02-13T08:22:48.253Z"
   },
   {
    "duration": 13,
    "start_time": "2022-02-13T08:22:48.316Z"
   },
   {
    "duration": 38,
    "start_time": "2022-02-13T08:22:48.332Z"
   },
   {
    "duration": 35,
    "start_time": "2022-02-13T08:22:48.373Z"
   },
   {
    "duration": 8,
    "start_time": "2022-02-13T08:22:48.410Z"
   },
   {
    "duration": 12,
    "start_time": "2022-02-13T08:22:48.420Z"
   },
   {
    "duration": 15,
    "start_time": "2022-02-13T08:22:48.433Z"
   },
   {
    "duration": 5,
    "start_time": "2022-02-13T08:22:48.450Z"
   },
   {
    "duration": 32,
    "start_time": "2022-02-13T08:22:48.458Z"
   },
   {
    "duration": 8,
    "start_time": "2022-02-13T08:22:48.508Z"
   },
   {
    "duration": 32,
    "start_time": "2022-02-13T08:22:48.518Z"
   },
   {
    "duration": 30,
    "start_time": "2022-02-13T08:22:48.553Z"
   },
   {
    "duration": 22,
    "start_time": "2022-02-13T08:22:48.585Z"
   },
   {
    "duration": 25,
    "start_time": "2022-02-13T08:22:48.610Z"
   },
   {
    "duration": 16,
    "start_time": "2022-02-13T08:22:48.637Z"
   },
   {
    "duration": 9,
    "start_time": "2022-02-13T08:22:48.655Z"
   },
   {
    "duration": 23,
    "start_time": "2022-02-13T08:22:48.666Z"
   },
   {
    "duration": 6,
    "start_time": "2022-02-13T08:22:48.707Z"
   },
   {
    "duration": 22,
    "start_time": "2022-02-13T08:22:48.715Z"
   },
   {
    "duration": 15,
    "start_time": "2022-02-13T08:22:48.739Z"
   },
   {
    "duration": 52,
    "start_time": "2022-02-13T08:22:48.756Z"
   },
   {
    "duration": 14,
    "start_time": "2022-02-13T08:22:48.810Z"
   },
   {
    "duration": 13,
    "start_time": "2022-02-13T08:22:48.826Z"
   },
   {
    "duration": 13,
    "start_time": "2022-02-13T08:22:48.842Z"
   },
   {
    "duration": 52,
    "start_time": "2022-02-13T08:22:48.858Z"
   },
   {
    "duration": 38,
    "start_time": "2022-02-13T08:22:48.913Z"
   },
   {
    "duration": 18,
    "start_time": "2022-02-13T08:22:48.954Z"
   },
   {
    "duration": 42,
    "start_time": "2022-02-13T08:22:48.974Z"
   },
   {
    "duration": 12,
    "start_time": "2022-02-13T08:22:49.018Z"
   },
   {
    "duration": 12,
    "start_time": "2022-02-13T08:22:49.032Z"
   },
   {
    "duration": 16,
    "start_time": "2022-02-13T08:22:49.046Z"
   },
   {
    "duration": 6,
    "start_time": "2022-02-13T08:22:49.064Z"
   },
   {
    "duration": 564,
    "start_time": "2022-02-13T08:22:49.072Z"
   },
   {
    "duration": 8,
    "start_time": "2022-02-13T08:22:49.637Z"
   },
   {
    "duration": 6,
    "start_time": "2022-02-13T08:22:49.647Z"
   },
   {
    "duration": 473,
    "start_time": "2022-02-13T08:22:49.655Z"
   },
   {
    "duration": 7,
    "start_time": "2022-02-13T08:22:50.130Z"
   },
   {
    "duration": 16,
    "start_time": "2022-02-13T08:22:50.139Z"
   },
   {
    "duration": 23,
    "start_time": "2022-02-13T08:22:50.157Z"
   },
   {
    "duration": 37,
    "start_time": "2022-02-13T08:22:50.182Z"
   },
   {
    "duration": 15,
    "start_time": "2022-02-13T08:22:50.221Z"
   }
  ],
  "kernelspec": {
   "display_name": "Python 3",
   "language": "python",
   "name": "python3"
  },
  "language_info": {
   "codemirror_mode": {
    "name": "ipython",
    "version": 3
   },
   "file_extension": ".py",
   "mimetype": "text/x-python",
   "name": "python",
   "nbconvert_exporter": "python",
   "pygments_lexer": "ipython3",
   "version": "3.8.8"
  },
  "toc": {
   "base_numbering": 1,
   "nav_menu": {},
   "number_sections": true,
   "sideBar": true,
   "skip_h1_title": true,
   "title_cell": "Table of Contents",
   "title_sidebar": "Contents",
   "toc_cell": false,
   "toc_position": {},
   "toc_section_display": true,
   "toc_window_display": false
  }
 },
 "nbformat": 4,
 "nbformat_minor": 5
}
